{
 "cells": [
  {
   "cell_type": "code",
   "outputs": [],
   "source": [
    "import pandas as pd\n",
    "import ast"
   ],
   "metadata": {
    "collapsed": false,
    "ExecuteTime": {
     "end_time": "2024-11-27T13:34:32.010270Z",
     "start_time": "2024-11-27T13:34:32.006273Z"
    }
   },
   "id": "f9c297ad46082166",
   "execution_count": 12
  },
  {
   "cell_type": "code",
   "outputs": [
    {
     "data": {
      "text/plain": "                                           hash  \\\n0      6c4841c2b6c32a134f9f36e5e08857138cc12b10   \n1      6c4841c2b6c32a134f9f36e5e08857138cc12b10   \n2      f0ec1aaf54caddd21c259aea8b2ecfbde4ee4fb9   \n3      f0ec1aaf54caddd21c259aea8b2ecfbde4ee4fb9   \n4      2a2f11c227bdf292b3a2900ad04139d301b56ac4   \n...                                         ...   \n15391  55dd08c210722aed81b38132f5fd4a04ec1943b5   \n15392  55dd08c210722aed81b38132f5fd4a04ec1943b5   \n15393  55dd08c210722aed81b38132f5fd4a04ec1943b5   \n15394  fa6a76050d82894365dfe32916903ef7fee3ffcd   \n15395  fa6a76050d82894365dfe32916903ef7fee3ffcd   \n\n                                    name             filename  \\\n0          altivec_unavailable_exception              traps.c   \n1          altivec_unavailable_exception              traps.c   \n2                          xacct_add_tsk             tsacct.c   \n3                          xacct_add_tsk             tsacct.c   \n4              netlbl_cipsov4_add_common  netlabel_cipso_v4.c   \n...                                  ...                  ...   \n15391  ZydisFormatterBufferInitTokenized          Formatter.c   \n15392  ZydisFormatterBufferInitTokenized          Formatter.c   \n15393           ZydisFormatterBufferInit          Formatter.c   \n15394       guestfs___first_line_of_file         inspect-fs.c   \n15395       guestfs___first_line_of_file         inspect-fs.c   \n\n       num_lines_of_code  complexity  token_count  \\\n0                     10           3           57   \n1                     10           2           57   \n2                     13           2          112   \n3                     16           2          123   \n4                     21           5          127   \n...                  ...         ...          ...   \n15391                 25           1          194   \n15392                 22           1          164   \n15393                 19           1          138   \n15394                 23           5          127   \n15395                 24           5          131   \n\n                                              parameters  \\\n0                                               ['regs']   \n1                                               ['regs']   \n2                                         ['stats', 'p']   \n3                                         ['stats', 'p']   \n4                                    ['info', 'doi_def']   \n...                                                  ...   \n15391  ['buffer', 'first_token', 'user_buffer', 'leng...   \n15392  ['buffer', 'first_token', 'user_buffer', 'leng...   \n15393                ['buffer', 'user_buffer', 'length']   \n15394                                  ['g', 'filename']   \n15395                                  ['g', 'filename']   \n\n                                               signature  start_line  \\\n0      altivec_unavailable_exception( struct pt_regs ...         901   \n1      altivec_unavailable_exception( struct pt_regs ...         901   \n2      xacct_add_tsk( struct taskstats * stats , stru...          81   \n3      xacct_add_tsk( struct taskstats * stats , stru...          81   \n4      netlbl_cipsov4_add_common( struct genl_info * ...         117   \n...                                                  ...         ...   \n15391  ZydisFormatterBufferInitTokenized( ZydisFormat...          80   \n15392  ZydisFormatterBufferInitTokenized( ZydisFormat...          75   \n15393  ZydisFormatterBufferInit( ZydisFormatterBuffer...          58   \n15394  guestfs___first_line_of_file( guestfs_h * g , ...         545   \n15395  guestfs___first_line_of_file( guestfs_h * g , ...         545   \n\n       end_line  length  top_nesting_level  \\\n0           914      14                  0   \n1           913      13                  0   \n2            95      15                  0   \n3            99      19                  0   \n4           141      25                  0   \n...         ...     ...                ...   \n15391       108      29                  0   \n15392        99      25                  0   \n15393        78      21                  0   \n15394       577      33                  0   \n15395       579      35                  0   \n\n                                                    code  before_change  \n0      void altivec_unavailable_exception(struct pt_r...           True  \n1      void altivec_unavailable_exception(struct pt_r...          False  \n2      void xacct_add_tsk(struct taskstats *stats, st...           True  \n3      void xacct_add_tsk(struct taskstats *stats, st...          False  \n4      static int netlbl_cipsov4_add_common(struct ge...           True  \n...                                                  ...            ...  \n15391  void ZydisFormatterBufferInitTokenized(ZydisFo...          False  \n15392  void ZydisFormatterBufferInitTokenized(ZydisFo...           True  \n15393  void ZydisFormatterBufferInit(ZydisFormatterBu...          False  \n15394  guestfs___first_line_of_file (guestfs_h *g, co...           True  \n15395  guestfs___first_line_of_file (guestfs_h *g, co...          False  \n\n[15396 rows x 14 columns]",
      "text/html": "<div>\n<style scoped>\n    .dataframe tbody tr th:only-of-type {\n        vertical-align: middle;\n    }\n\n    .dataframe tbody tr th {\n        vertical-align: top;\n    }\n\n    .dataframe thead th {\n        text-align: right;\n    }\n</style>\n<table border=\"1\" class=\"dataframe\">\n  <thead>\n    <tr style=\"text-align: right;\">\n      <th></th>\n      <th>hash</th>\n      <th>name</th>\n      <th>filename</th>\n      <th>num_lines_of_code</th>\n      <th>complexity</th>\n      <th>token_count</th>\n      <th>parameters</th>\n      <th>signature</th>\n      <th>start_line</th>\n      <th>end_line</th>\n      <th>length</th>\n      <th>top_nesting_level</th>\n      <th>code</th>\n      <th>before_change</th>\n    </tr>\n  </thead>\n  <tbody>\n    <tr>\n      <th>0</th>\n      <td>6c4841c2b6c32a134f9f36e5e08857138cc12b10</td>\n      <td>altivec_unavailable_exception</td>\n      <td>traps.c</td>\n      <td>10</td>\n      <td>3</td>\n      <td>57</td>\n      <td>['regs']</td>\n      <td>altivec_unavailable_exception( struct pt_regs ...</td>\n      <td>901</td>\n      <td>914</td>\n      <td>14</td>\n      <td>0</td>\n      <td>void altivec_unavailable_exception(struct pt_r...</td>\n      <td>True</td>\n    </tr>\n    <tr>\n      <th>1</th>\n      <td>6c4841c2b6c32a134f9f36e5e08857138cc12b10</td>\n      <td>altivec_unavailable_exception</td>\n      <td>traps.c</td>\n      <td>10</td>\n      <td>2</td>\n      <td>57</td>\n      <td>['regs']</td>\n      <td>altivec_unavailable_exception( struct pt_regs ...</td>\n      <td>901</td>\n      <td>913</td>\n      <td>13</td>\n      <td>0</td>\n      <td>void altivec_unavailable_exception(struct pt_r...</td>\n      <td>False</td>\n    </tr>\n    <tr>\n      <th>2</th>\n      <td>f0ec1aaf54caddd21c259aea8b2ecfbde4ee4fb9</td>\n      <td>xacct_add_tsk</td>\n      <td>tsacct.c</td>\n      <td>13</td>\n      <td>2</td>\n      <td>112</td>\n      <td>['stats', 'p']</td>\n      <td>xacct_add_tsk( struct taskstats * stats , stru...</td>\n      <td>81</td>\n      <td>95</td>\n      <td>15</td>\n      <td>0</td>\n      <td>void xacct_add_tsk(struct taskstats *stats, st...</td>\n      <td>True</td>\n    </tr>\n    <tr>\n      <th>3</th>\n      <td>f0ec1aaf54caddd21c259aea8b2ecfbde4ee4fb9</td>\n      <td>xacct_add_tsk</td>\n      <td>tsacct.c</td>\n      <td>16</td>\n      <td>2</td>\n      <td>123</td>\n      <td>['stats', 'p']</td>\n      <td>xacct_add_tsk( struct taskstats * stats , stru...</td>\n      <td>81</td>\n      <td>99</td>\n      <td>19</td>\n      <td>0</td>\n      <td>void xacct_add_tsk(struct taskstats *stats, st...</td>\n      <td>False</td>\n    </tr>\n    <tr>\n      <th>4</th>\n      <td>2a2f11c227bdf292b3a2900ad04139d301b56ac4</td>\n      <td>netlbl_cipsov4_add_common</td>\n      <td>netlabel_cipso_v4.c</td>\n      <td>21</td>\n      <td>5</td>\n      <td>127</td>\n      <td>['info', 'doi_def']</td>\n      <td>netlbl_cipsov4_add_common( struct genl_info * ...</td>\n      <td>117</td>\n      <td>141</td>\n      <td>25</td>\n      <td>0</td>\n      <td>static int netlbl_cipsov4_add_common(struct ge...</td>\n      <td>True</td>\n    </tr>\n    <tr>\n      <th>...</th>\n      <td>...</td>\n      <td>...</td>\n      <td>...</td>\n      <td>...</td>\n      <td>...</td>\n      <td>...</td>\n      <td>...</td>\n      <td>...</td>\n      <td>...</td>\n      <td>...</td>\n      <td>...</td>\n      <td>...</td>\n      <td>...</td>\n      <td>...</td>\n    </tr>\n    <tr>\n      <th>15391</th>\n      <td>55dd08c210722aed81b38132f5fd4a04ec1943b5</td>\n      <td>ZydisFormatterBufferInitTokenized</td>\n      <td>Formatter.c</td>\n      <td>25</td>\n      <td>1</td>\n      <td>194</td>\n      <td>['buffer', 'first_token', 'user_buffer', 'leng...</td>\n      <td>ZydisFormatterBufferInitTokenized( ZydisFormat...</td>\n      <td>80</td>\n      <td>108</td>\n      <td>29</td>\n      <td>0</td>\n      <td>void ZydisFormatterBufferInitTokenized(ZydisFo...</td>\n      <td>False</td>\n    </tr>\n    <tr>\n      <th>15392</th>\n      <td>55dd08c210722aed81b38132f5fd4a04ec1943b5</td>\n      <td>ZydisFormatterBufferInitTokenized</td>\n      <td>Formatter.c</td>\n      <td>22</td>\n      <td>1</td>\n      <td>164</td>\n      <td>['buffer', 'first_token', 'user_buffer', 'leng...</td>\n      <td>ZydisFormatterBufferInitTokenized( ZydisFormat...</td>\n      <td>75</td>\n      <td>99</td>\n      <td>25</td>\n      <td>0</td>\n      <td>void ZydisFormatterBufferInitTokenized(ZydisFo...</td>\n      <td>True</td>\n    </tr>\n    <tr>\n      <th>15393</th>\n      <td>55dd08c210722aed81b38132f5fd4a04ec1943b5</td>\n      <td>ZydisFormatterBufferInit</td>\n      <td>Formatter.c</td>\n      <td>19</td>\n      <td>1</td>\n      <td>138</td>\n      <td>['buffer', 'user_buffer', 'length']</td>\n      <td>ZydisFormatterBufferInit( ZydisFormatterBuffer...</td>\n      <td>58</td>\n      <td>78</td>\n      <td>21</td>\n      <td>0</td>\n      <td>void ZydisFormatterBufferInit(ZydisFormatterBu...</td>\n      <td>False</td>\n    </tr>\n    <tr>\n      <th>15394</th>\n      <td>fa6a76050d82894365dfe32916903ef7fee3ffcd</td>\n      <td>guestfs___first_line_of_file</td>\n      <td>inspect-fs.c</td>\n      <td>23</td>\n      <td>5</td>\n      <td>127</td>\n      <td>['g', 'filename']</td>\n      <td>guestfs___first_line_of_file( guestfs_h * g , ...</td>\n      <td>545</td>\n      <td>577</td>\n      <td>33</td>\n      <td>0</td>\n      <td>guestfs___first_line_of_file (guestfs_h *g, co...</td>\n      <td>True</td>\n    </tr>\n    <tr>\n      <th>15395</th>\n      <td>fa6a76050d82894365dfe32916903ef7fee3ffcd</td>\n      <td>guestfs___first_line_of_file</td>\n      <td>inspect-fs.c</td>\n      <td>24</td>\n      <td>5</td>\n      <td>131</td>\n      <td>['g', 'filename']</td>\n      <td>guestfs___first_line_of_file( guestfs_h * g , ...</td>\n      <td>545</td>\n      <td>579</td>\n      <td>35</td>\n      <td>0</td>\n      <td>guestfs___first_line_of_file (guestfs_h *g, co...</td>\n      <td>False</td>\n    </tr>\n  </tbody>\n</table>\n<p>15396 rows × 14 columns</p>\n</div>"
     },
     "execution_count": 13,
     "metadata": {},
     "output_type": "execute_result"
    }
   ],
   "source": [
    "df1 = pd.read_csv('..//data/processed/cve_fc_vcc_mapping.csv')\n",
    "df2 = pd.read_csv('..//data/processed/function_info.csv')\n",
    "df2"
   ],
   "metadata": {
    "collapsed": false,
    "ExecuteTime": {
     "end_time": "2024-11-27T13:34:33.530389Z",
     "start_time": "2024-11-27T13:34:32.997049Z"
    }
   },
   "id": "95fa18ea31f85e4f",
   "execution_count": 13
  },
  {
   "cell_type": "code",
   "outputs": [
    {
     "data": {
      "text/plain": "                                           hash  \\\n0      6c4841c2b6c32a134f9f36e5e08857138cc12b10   \n1      6c4841c2b6c32a134f9f36e5e08857138cc12b10   \n2      f0ec1aaf54caddd21c259aea8b2ecfbde4ee4fb9   \n3      f0ec1aaf54caddd21c259aea8b2ecfbde4ee4fb9   \n4      2a2f11c227bdf292b3a2900ad04139d301b56ac4   \n...                                         ...   \n15391  55dd08c210722aed81b38132f5fd4a04ec1943b5   \n15392  55dd08c210722aed81b38132f5fd4a04ec1943b5   \n15393  55dd08c210722aed81b38132f5fd4a04ec1943b5   \n15394  fa6a76050d82894365dfe32916903ef7fee3ffcd   \n15395  fa6a76050d82894365dfe32916903ef7fee3ffcd   \n\n                                    name             filename  \\\n0          altivec_unavailable_exception              traps.c   \n1          altivec_unavailable_exception              traps.c   \n2                          xacct_add_tsk             tsacct.c   \n3                          xacct_add_tsk             tsacct.c   \n4              netlbl_cipsov4_add_common  netlabel_cipso_v4.c   \n...                                  ...                  ...   \n15391  ZydisFormatterBufferInitTokenized          Formatter.c   \n15392  ZydisFormatterBufferInitTokenized          Formatter.c   \n15393           ZydisFormatterBufferInit          Formatter.c   \n15394       guestfs___first_line_of_file         inspect-fs.c   \n15395       guestfs___first_line_of_file         inspect-fs.c   \n\n       num_lines_of_code  complexity  token_count  \\\n0                     10           3           57   \n1                     10           2           57   \n2                     13           2          112   \n3                     16           2          123   \n4                     21           5          127   \n...                  ...         ...          ...   \n15391                 25           1          194   \n15392                 22           1          164   \n15393                 19           1          138   \n15394                 23           5          127   \n15395                 24           5          131   \n\n                                              parameters  \\\n0                                               ['regs']   \n1                                               ['regs']   \n2                                         ['stats', 'p']   \n3                                         ['stats', 'p']   \n4                                    ['info', 'doi_def']   \n...                                                  ...   \n15391  ['buffer', 'first_token', 'user_buffer', 'leng...   \n15392  ['buffer', 'first_token', 'user_buffer', 'leng...   \n15393                ['buffer', 'user_buffer', 'length']   \n15394                                  ['g', 'filename']   \n15395                                  ['g', 'filename']   \n\n                                               signature  start_line  \\\n0      altivec_unavailable_exception( struct pt_regs ...         901   \n1      altivec_unavailable_exception( struct pt_regs ...         901   \n2      xacct_add_tsk( struct taskstats * stats , stru...          81   \n3      xacct_add_tsk( struct taskstats * stats , stru...          81   \n4      netlbl_cipsov4_add_common( struct genl_info * ...         117   \n...                                                  ...         ...   \n15391  ZydisFormatterBufferInitTokenized( ZydisFormat...          80   \n15392  ZydisFormatterBufferInitTokenized( ZydisFormat...          75   \n15393  ZydisFormatterBufferInit( ZydisFormatterBuffer...          58   \n15394  guestfs___first_line_of_file( guestfs_h * g , ...         545   \n15395  guestfs___first_line_of_file( guestfs_h * g , ...         545   \n\n       end_line  length  top_nesting_level  \\\n0           914      14                  0   \n1           913      13                  0   \n2            95      15                  0   \n3            99      19                  0   \n4           141      25                  0   \n...         ...     ...                ...   \n15391       108      29                  0   \n15392        99      25                  0   \n15393        78      21                  0   \n15394       577      33                  0   \n15395       579      35                  0   \n\n                                                    code  before_change  \\\n0      void altivec_unavailable_exception(struct pt_r...           True   \n1      void altivec_unavailable_exception(struct pt_r...          False   \n2      void xacct_add_tsk(struct taskstats *stats, st...           True   \n3      void xacct_add_tsk(struct taskstats *stats, st...          False   \n4      static int netlbl_cipsov4_add_common(struct ge...           True   \n...                                                  ...            ...   \n15391  void ZydisFormatterBufferInitTokenized(ZydisFo...          False   \n15392  void ZydisFormatterBufferInitTokenized(ZydisFo...           True   \n15393  void ZydisFormatterBufferInit(ZydisFormatterBu...          False   \n15394  guestfs___first_line_of_file (guestfs_h *g, co...           True   \n15395  guestfs___first_line_of_file (guestfs_h *g, co...          False   \n\n      commit_type         cwe_id                                  repo_url  \n0              FC         CWE-19         https://github.com/torvalds/linux  \n1              FC         CWE-19         https://github.com/torvalds/linux  \n2              FC        CWE-399         https://github.com/torvalds/linux  \n3              FC        CWE-399         https://github.com/torvalds/linux  \n4              FC        CWE-119         https://github.com/torvalds/linux  \n...           ...            ...                                       ...  \n15391          FC        CWE-908        https://github.com/zyantific/zydis  \n15392          FC        CWE-908        https://github.com/zyantific/zydis  \n15393          FC        CWE-908        https://github.com/zyantific/zydis  \n15394          FC  NVD-CWE-Other  https://github.com/libguestfs/libguestfs  \n15395          FC  NVD-CWE-Other  https://github.com/libguestfs/libguestfs  \n\n[15396 rows x 17 columns]",
      "text/html": "<div>\n<style scoped>\n    .dataframe tbody tr th:only-of-type {\n        vertical-align: middle;\n    }\n\n    .dataframe tbody tr th {\n        vertical-align: top;\n    }\n\n    .dataframe thead th {\n        text-align: right;\n    }\n</style>\n<table border=\"1\" class=\"dataframe\">\n  <thead>\n    <tr style=\"text-align: right;\">\n      <th></th>\n      <th>hash</th>\n      <th>name</th>\n      <th>filename</th>\n      <th>num_lines_of_code</th>\n      <th>complexity</th>\n      <th>token_count</th>\n      <th>parameters</th>\n      <th>signature</th>\n      <th>start_line</th>\n      <th>end_line</th>\n      <th>length</th>\n      <th>top_nesting_level</th>\n      <th>code</th>\n      <th>before_change</th>\n      <th>commit_type</th>\n      <th>cwe_id</th>\n      <th>repo_url</th>\n    </tr>\n  </thead>\n  <tbody>\n    <tr>\n      <th>0</th>\n      <td>6c4841c2b6c32a134f9f36e5e08857138cc12b10</td>\n      <td>altivec_unavailable_exception</td>\n      <td>traps.c</td>\n      <td>10</td>\n      <td>3</td>\n      <td>57</td>\n      <td>['regs']</td>\n      <td>altivec_unavailable_exception( struct pt_regs ...</td>\n      <td>901</td>\n      <td>914</td>\n      <td>14</td>\n      <td>0</td>\n      <td>void altivec_unavailable_exception(struct pt_r...</td>\n      <td>True</td>\n      <td>FC</td>\n      <td>CWE-19</td>\n      <td>https://github.com/torvalds/linux</td>\n    </tr>\n    <tr>\n      <th>1</th>\n      <td>6c4841c2b6c32a134f9f36e5e08857138cc12b10</td>\n      <td>altivec_unavailable_exception</td>\n      <td>traps.c</td>\n      <td>10</td>\n      <td>2</td>\n      <td>57</td>\n      <td>['regs']</td>\n      <td>altivec_unavailable_exception( struct pt_regs ...</td>\n      <td>901</td>\n      <td>913</td>\n      <td>13</td>\n      <td>0</td>\n      <td>void altivec_unavailable_exception(struct pt_r...</td>\n      <td>False</td>\n      <td>FC</td>\n      <td>CWE-19</td>\n      <td>https://github.com/torvalds/linux</td>\n    </tr>\n    <tr>\n      <th>2</th>\n      <td>f0ec1aaf54caddd21c259aea8b2ecfbde4ee4fb9</td>\n      <td>xacct_add_tsk</td>\n      <td>tsacct.c</td>\n      <td>13</td>\n      <td>2</td>\n      <td>112</td>\n      <td>['stats', 'p']</td>\n      <td>xacct_add_tsk( struct taskstats * stats , stru...</td>\n      <td>81</td>\n      <td>95</td>\n      <td>15</td>\n      <td>0</td>\n      <td>void xacct_add_tsk(struct taskstats *stats, st...</td>\n      <td>True</td>\n      <td>FC</td>\n      <td>CWE-399</td>\n      <td>https://github.com/torvalds/linux</td>\n    </tr>\n    <tr>\n      <th>3</th>\n      <td>f0ec1aaf54caddd21c259aea8b2ecfbde4ee4fb9</td>\n      <td>xacct_add_tsk</td>\n      <td>tsacct.c</td>\n      <td>16</td>\n      <td>2</td>\n      <td>123</td>\n      <td>['stats', 'p']</td>\n      <td>xacct_add_tsk( struct taskstats * stats , stru...</td>\n      <td>81</td>\n      <td>99</td>\n      <td>19</td>\n      <td>0</td>\n      <td>void xacct_add_tsk(struct taskstats *stats, st...</td>\n      <td>False</td>\n      <td>FC</td>\n      <td>CWE-399</td>\n      <td>https://github.com/torvalds/linux</td>\n    </tr>\n    <tr>\n      <th>4</th>\n      <td>2a2f11c227bdf292b3a2900ad04139d301b56ac4</td>\n      <td>netlbl_cipsov4_add_common</td>\n      <td>netlabel_cipso_v4.c</td>\n      <td>21</td>\n      <td>5</td>\n      <td>127</td>\n      <td>['info', 'doi_def']</td>\n      <td>netlbl_cipsov4_add_common( struct genl_info * ...</td>\n      <td>117</td>\n      <td>141</td>\n      <td>25</td>\n      <td>0</td>\n      <td>static int netlbl_cipsov4_add_common(struct ge...</td>\n      <td>True</td>\n      <td>FC</td>\n      <td>CWE-119</td>\n      <td>https://github.com/torvalds/linux</td>\n    </tr>\n    <tr>\n      <th>...</th>\n      <td>...</td>\n      <td>...</td>\n      <td>...</td>\n      <td>...</td>\n      <td>...</td>\n      <td>...</td>\n      <td>...</td>\n      <td>...</td>\n      <td>...</td>\n      <td>...</td>\n      <td>...</td>\n      <td>...</td>\n      <td>...</td>\n      <td>...</td>\n      <td>...</td>\n      <td>...</td>\n      <td>...</td>\n    </tr>\n    <tr>\n      <th>15391</th>\n      <td>55dd08c210722aed81b38132f5fd4a04ec1943b5</td>\n      <td>ZydisFormatterBufferInitTokenized</td>\n      <td>Formatter.c</td>\n      <td>25</td>\n      <td>1</td>\n      <td>194</td>\n      <td>['buffer', 'first_token', 'user_buffer', 'leng...</td>\n      <td>ZydisFormatterBufferInitTokenized( ZydisFormat...</td>\n      <td>80</td>\n      <td>108</td>\n      <td>29</td>\n      <td>0</td>\n      <td>void ZydisFormatterBufferInitTokenized(ZydisFo...</td>\n      <td>False</td>\n      <td>FC</td>\n      <td>CWE-908</td>\n      <td>https://github.com/zyantific/zydis</td>\n    </tr>\n    <tr>\n      <th>15392</th>\n      <td>55dd08c210722aed81b38132f5fd4a04ec1943b5</td>\n      <td>ZydisFormatterBufferInitTokenized</td>\n      <td>Formatter.c</td>\n      <td>22</td>\n      <td>1</td>\n      <td>164</td>\n      <td>['buffer', 'first_token', 'user_buffer', 'leng...</td>\n      <td>ZydisFormatterBufferInitTokenized( ZydisFormat...</td>\n      <td>75</td>\n      <td>99</td>\n      <td>25</td>\n      <td>0</td>\n      <td>void ZydisFormatterBufferInitTokenized(ZydisFo...</td>\n      <td>True</td>\n      <td>FC</td>\n      <td>CWE-908</td>\n      <td>https://github.com/zyantific/zydis</td>\n    </tr>\n    <tr>\n      <th>15393</th>\n      <td>55dd08c210722aed81b38132f5fd4a04ec1943b5</td>\n      <td>ZydisFormatterBufferInit</td>\n      <td>Formatter.c</td>\n      <td>19</td>\n      <td>1</td>\n      <td>138</td>\n      <td>['buffer', 'user_buffer', 'length']</td>\n      <td>ZydisFormatterBufferInit( ZydisFormatterBuffer...</td>\n      <td>58</td>\n      <td>78</td>\n      <td>21</td>\n      <td>0</td>\n      <td>void ZydisFormatterBufferInit(ZydisFormatterBu...</td>\n      <td>False</td>\n      <td>FC</td>\n      <td>CWE-908</td>\n      <td>https://github.com/zyantific/zydis</td>\n    </tr>\n    <tr>\n      <th>15394</th>\n      <td>fa6a76050d82894365dfe32916903ef7fee3ffcd</td>\n      <td>guestfs___first_line_of_file</td>\n      <td>inspect-fs.c</td>\n      <td>23</td>\n      <td>5</td>\n      <td>127</td>\n      <td>['g', 'filename']</td>\n      <td>guestfs___first_line_of_file( guestfs_h * g , ...</td>\n      <td>545</td>\n      <td>577</td>\n      <td>33</td>\n      <td>0</td>\n      <td>guestfs___first_line_of_file (guestfs_h *g, co...</td>\n      <td>True</td>\n      <td>FC</td>\n      <td>NVD-CWE-Other</td>\n      <td>https://github.com/libguestfs/libguestfs</td>\n    </tr>\n    <tr>\n      <th>15395</th>\n      <td>fa6a76050d82894365dfe32916903ef7fee3ffcd</td>\n      <td>guestfs___first_line_of_file</td>\n      <td>inspect-fs.c</td>\n      <td>24</td>\n      <td>5</td>\n      <td>131</td>\n      <td>['g', 'filename']</td>\n      <td>guestfs___first_line_of_file( guestfs_h * g , ...</td>\n      <td>545</td>\n      <td>579</td>\n      <td>35</td>\n      <td>0</td>\n      <td>guestfs___first_line_of_file (guestfs_h *g, co...</td>\n      <td>False</td>\n      <td>FC</td>\n      <td>NVD-CWE-Other</td>\n      <td>https://github.com/libguestfs/libguestfs</td>\n    </tr>\n  </tbody>\n</table>\n<p>15396 rows × 17 columns</p>\n</div>"
     },
     "execution_count": 14,
     "metadata": {},
     "output_type": "execute_result"
    }
   ],
   "source": [
    "# Function to convert string-formatted list to actual list\n",
    "def convert_to_list(vcc_hash_str):\n",
    "    if pd.isna(vcc_hash_str):\n",
    "        return []\n",
    "    try:\n",
    "        # Convert the string to an actual list\n",
    "        return ast.literal_eval(vcc_hash_str.strip())\n",
    "    except (ValueError, SyntaxError):\n",
    "        return []\n",
    "\n",
    "# Apply the function to the 'vcc_hash' column to convert it to a list\n",
    "df1['vcc_hash'] = df1['vcc_hash'].apply(convert_to_list)\n",
    "\n",
    "# Create new columns in df2\n",
    "df2['commit_type'] = ''\n",
    "df2['cwe_id'] = ''\n",
    "df2['repo_url'] = ''\n",
    "\n",
    "# Iterate over each row in df1\n",
    "for index, row in df1.iterrows():\n",
    "    # Handle FC hashes\n",
    "    fc_matches = df2['hash'] == row['fc_hash']\n",
    "    df2.loc[fc_matches, 'commit_type'] = 'FC'\n",
    "    df2.loc[fc_matches, 'cwe_id'] = row['cwe_id']\n",
    "    df2.loc[fc_matches, 'repo_url'] = row['repo_url']\n",
    "\n",
    "    # Handle VCC hashes\n",
    "    vcc_hashes = row['vcc_hash']\n",
    "    for vcc_hash in vcc_hashes:\n",
    "        if pd.notna(vcc_hash):\n",
    "            vcc_matches = df2['hash'] == vcc_hash\n",
    "            df2.loc[vcc_matches, 'commit_type'] = 'VCC'\n",
    "            df2.loc[vcc_matches, 'cwe_id'] = row['cwe_id']\n",
    "            df2.loc[vcc_matches, 'repo_url'] = row['repo_url']\n",
    "\n",
    "# Display the updated df2\n",
    "df2"
   ],
   "metadata": {
    "collapsed": false,
    "ExecuteTime": {
     "end_time": "2024-11-27T13:34:49.843974Z",
     "start_time": "2024-11-27T13:34:35.050878Z"
    }
   },
   "id": "8ae01e1a0556eaae",
   "execution_count": 14
  },
  {
   "cell_type": "code",
   "outputs": [
    {
     "data": {
      "text/plain": "before_change\nFalse    9120\nTrue     6276\nName: count, dtype: int64"
     },
     "execution_count": 15,
     "metadata": {},
     "output_type": "execute_result"
    }
   ],
   "source": [
    "vul_count = df2['before_change'].value_counts()\n",
    "vul_count"
   ],
   "metadata": {
    "collapsed": false,
    "ExecuteTime": {
     "end_time": "2024-11-27T13:34:52.411989Z",
     "start_time": "2024-11-27T13:34:52.393047Z"
    }
   },
   "id": "3fc146b5d6ace72f",
   "execution_count": 15
  },
  {
   "cell_type": "code",
   "outputs": [
    {
     "data": {
      "text/plain": "cwe_id\nCWE-125    685\nCWE-119    500\nCWE-787    460\nCWE-476    388\nCWE-190    278\n          ... \nCWE-16       1\nCWE-312      1\nCWE-320      1\nCWE-182      1\nCWE-460      1\nName: count, Length: 129, dtype: int64"
     },
     "execution_count": 16,
     "metadata": {},
     "output_type": "execute_result"
    }
   ],
   "source": [
    "vul_rows_df = df2[df2['before_change'] == True]\n",
    "cwe_id_count = vul_rows_df['cwe_id'].value_counts()\n",
    "cwe_id_count"
   ],
   "metadata": {
    "collapsed": false,
    "ExecuteTime": {
     "end_time": "2024-11-27T13:34:56.050165Z",
     "start_time": "2024-11-27T13:34:56.033574Z"
    }
   },
   "id": "5e9f1130c87026a5",
   "execution_count": 16
  },
  {
   "cell_type": "code",
   "outputs": [
    {
     "data": {
      "text/plain": "cwe_id                                              CWE-1077  CWE-116  \\\nrepo_url                                                                \nhttps://github.com/01org/tpm2.0-tools                      0        0   \nhttps://github.com/10gen-archive/mongo-c-driver...         0        0   \nhttps://github.com/389ds/389-ds-base                       0        0   \nhttps://github.com/ARMmbed/mbedtls                         0        0   \nhttps://github.com/AXDOOMER/doom-vanille                   0        0   \n...                                                      ...      ...   \nhttps://github.com/zeromq/libzmq                           0        0   \nhttps://github.com/zhaozg/lua-openssl                      0        0   \nhttps://github.com/zmartzone/mod_auth_openidc              0        0   \nhttps://github.com/znc/znc                                 0        0   \nhttps://github.com/zyantific/zydis                         0        0   \n\ncwe_id                                              CWE-1187  CWE-119  \\\nrepo_url                                                                \nhttps://github.com/01org/tpm2.0-tools                      0        0   \nhttps://github.com/10gen-archive/mongo-c-driver...         0        0   \nhttps://github.com/389ds/389-ds-base                       0        0   \nhttps://github.com/ARMmbed/mbedtls                         0        0   \nhttps://github.com/AXDOOMER/doom-vanille                   0        0   \n...                                                      ...      ...   \nhttps://github.com/zeromq/libzmq                           0        0   \nhttps://github.com/zhaozg/lua-openssl                      0        0   \nhttps://github.com/zmartzone/mod_auth_openidc              0        0   \nhttps://github.com/znc/znc                                 0        0   \nhttps://github.com/zyantific/zydis                         0        0   \n\ncwe_id                                              CWE-120  CWE-121  CWE-122  \\\nrepo_url                                                                        \nhttps://github.com/01org/tpm2.0-tools                     0        0        0   \nhttps://github.com/10gen-archive/mongo-c-driver...        0        0        0   \nhttps://github.com/389ds/389-ds-base                      0        0        0   \nhttps://github.com/ARMmbed/mbedtls                        0        0        0   \nhttps://github.com/AXDOOMER/doom-vanille                  1        0        0   \n...                                                     ...      ...      ...   \nhttps://github.com/zeromq/libzmq                          0        0        0   \nhttps://github.com/zhaozg/lua-openssl                     0        0        0   \nhttps://github.com/zmartzone/mod_auth_openidc             0        0        0   \nhttps://github.com/znc/znc                                0        0        0   \nhttps://github.com/zyantific/zydis                        0        0        0   \n\ncwe_id                                              CWE-125  CWE-1284  \\\nrepo_url                                                                \nhttps://github.com/01org/tpm2.0-tools                     0         0   \nhttps://github.com/10gen-archive/mongo-c-driver...        0         0   \nhttps://github.com/389ds/389-ds-base                      0         0   \nhttps://github.com/ARMmbed/mbedtls                        0         0   \nhttps://github.com/AXDOOMER/doom-vanille                  0         0   \n...                                                     ...       ...   \nhttps://github.com/zeromq/libzmq                          0         0   \nhttps://github.com/zhaozg/lua-openssl                     0         0   \nhttps://github.com/zmartzone/mod_auth_openidc             0         0   \nhttps://github.com/znc/znc                                0         0   \nhttps://github.com/zyantific/zydis                        0         0   \n\ncwe_id                                              CWE-129  ...  CWE-909  \\\nrepo_url                                                     ...            \nhttps://github.com/01org/tpm2.0-tools                     0  ...        0   \nhttps://github.com/10gen-archive/mongo-c-driver...        0  ...        0   \nhttps://github.com/389ds/389-ds-base                      0  ...        0   \nhttps://github.com/ARMmbed/mbedtls                        0  ...        0   \nhttps://github.com/AXDOOMER/doom-vanille                  0  ...        0   \n...                                                     ...  ...      ...   \nhttps://github.com/zeromq/libzmq                          0  ...        0   \nhttps://github.com/zhaozg/lua-openssl                     0  ...        0   \nhttps://github.com/zmartzone/mod_auth_openidc             0  ...        0   \nhttps://github.com/znc/znc                                0  ...        0   \nhttps://github.com/zyantific/zydis                        0  ...        0   \n\ncwe_id                                              CWE-913  CWE-918  CWE-924  \\\nrepo_url                                                                        \nhttps://github.com/01org/tpm2.0-tools                     0        0        0   \nhttps://github.com/10gen-archive/mongo-c-driver...        0        0        0   \nhttps://github.com/389ds/389-ds-base                      0        0        0   \nhttps://github.com/ARMmbed/mbedtls                        0        0        0   \nhttps://github.com/AXDOOMER/doom-vanille                  0        0        0   \n...                                                     ...      ...      ...   \nhttps://github.com/zeromq/libzmq                          0        0        0   \nhttps://github.com/zhaozg/lua-openssl                     0        0        0   \nhttps://github.com/zmartzone/mod_auth_openidc             0        0        0   \nhttps://github.com/znc/znc                                0        0        0   \nhttps://github.com/zyantific/zydis                        0        0        0   \n\ncwe_id                                              CWE-94  CWE-943  CWE-96  \\\nrepo_url                                                                      \nhttps://github.com/01org/tpm2.0-tools                    0        0       0   \nhttps://github.com/10gen-archive/mongo-c-driver...       0        0       0   \nhttps://github.com/389ds/389-ds-base                     0        0       0   \nhttps://github.com/ARMmbed/mbedtls                       0        0       0   \nhttps://github.com/AXDOOMER/doom-vanille                 0        0       0   \n...                                                    ...      ...     ...   \nhttps://github.com/zeromq/libzmq                         0        0       0   \nhttps://github.com/zhaozg/lua-openssl                    0        0       0   \nhttps://github.com/zmartzone/mod_auth_openidc            0        0       0   \nhttps://github.com/znc/znc                               0        0       0   \nhttps://github.com/zyantific/zydis                       0        0       0   \n\ncwe_id                                              NVD-CWE-Other  \\\nrepo_url                                                            \nhttps://github.com/01org/tpm2.0-tools                           0   \nhttps://github.com/10gen-archive/mongo-c-driver...              0   \nhttps://github.com/389ds/389-ds-base                            0   \nhttps://github.com/ARMmbed/mbedtls                              0   \nhttps://github.com/AXDOOMER/doom-vanille                        0   \n...                                                           ...   \nhttps://github.com/zeromq/libzmq                                0   \nhttps://github.com/zhaozg/lua-openssl                           0   \nhttps://github.com/zmartzone/mod_auth_openidc                   0   \nhttps://github.com/znc/znc                                      1   \nhttps://github.com/zyantific/zydis                              0   \n\ncwe_id                                              NVD-CWE-noinfo  Total  \nrepo_url                                                                   \nhttps://github.com/01org/tpm2.0-tools                            0      2  \nhttps://github.com/10gen-archive/mongo-c-driver...               0     36  \nhttps://github.com/389ds/389-ds-base                             0     26  \nhttps://github.com/ARMmbed/mbedtls                               0      2  \nhttps://github.com/AXDOOMER/doom-vanille                         0      1  \n...                                                            ...    ...  \nhttps://github.com/zeromq/libzmq                                 0      1  \nhttps://github.com/zhaozg/lua-openssl                            0      3  \nhttps://github.com/zmartzone/mod_auth_openidc                    0     14  \nhttps://github.com/znc/znc                                       0     12  \nhttps://github.com/zyantific/zydis                               0      2  \n\n[591 rows x 130 columns]",
      "text/html": "<div>\n<style scoped>\n    .dataframe tbody tr th:only-of-type {\n        vertical-align: middle;\n    }\n\n    .dataframe tbody tr th {\n        vertical-align: top;\n    }\n\n    .dataframe thead th {\n        text-align: right;\n    }\n</style>\n<table border=\"1\" class=\"dataframe\">\n  <thead>\n    <tr style=\"text-align: right;\">\n      <th>cwe_id</th>\n      <th>CWE-1077</th>\n      <th>CWE-116</th>\n      <th>CWE-1187</th>\n      <th>CWE-119</th>\n      <th>CWE-120</th>\n      <th>CWE-121</th>\n      <th>CWE-122</th>\n      <th>CWE-125</th>\n      <th>CWE-1284</th>\n      <th>CWE-129</th>\n      <th>...</th>\n      <th>CWE-909</th>\n      <th>CWE-913</th>\n      <th>CWE-918</th>\n      <th>CWE-924</th>\n      <th>CWE-94</th>\n      <th>CWE-943</th>\n      <th>CWE-96</th>\n      <th>NVD-CWE-Other</th>\n      <th>NVD-CWE-noinfo</th>\n      <th>Total</th>\n    </tr>\n    <tr>\n      <th>repo_url</th>\n      <th></th>\n      <th></th>\n      <th></th>\n      <th></th>\n      <th></th>\n      <th></th>\n      <th></th>\n      <th></th>\n      <th></th>\n      <th></th>\n      <th></th>\n      <th></th>\n      <th></th>\n      <th></th>\n      <th></th>\n      <th></th>\n      <th></th>\n      <th></th>\n      <th></th>\n      <th></th>\n      <th></th>\n    </tr>\n  </thead>\n  <tbody>\n    <tr>\n      <th>https://github.com/01org/tpm2.0-tools</th>\n      <td>0</td>\n      <td>0</td>\n      <td>0</td>\n      <td>0</td>\n      <td>0</td>\n      <td>0</td>\n      <td>0</td>\n      <td>0</td>\n      <td>0</td>\n      <td>0</td>\n      <td>...</td>\n      <td>0</td>\n      <td>0</td>\n      <td>0</td>\n      <td>0</td>\n      <td>0</td>\n      <td>0</td>\n      <td>0</td>\n      <td>0</td>\n      <td>0</td>\n      <td>2</td>\n    </tr>\n    <tr>\n      <th>https://github.com/10gen-archive/mongo-c-driver-legacy</th>\n      <td>0</td>\n      <td>0</td>\n      <td>0</td>\n      <td>0</td>\n      <td>0</td>\n      <td>0</td>\n      <td>0</td>\n      <td>0</td>\n      <td>0</td>\n      <td>0</td>\n      <td>...</td>\n      <td>0</td>\n      <td>0</td>\n      <td>0</td>\n      <td>0</td>\n      <td>0</td>\n      <td>0</td>\n      <td>0</td>\n      <td>0</td>\n      <td>0</td>\n      <td>36</td>\n    </tr>\n    <tr>\n      <th>https://github.com/389ds/389-ds-base</th>\n      <td>0</td>\n      <td>0</td>\n      <td>0</td>\n      <td>0</td>\n      <td>0</td>\n      <td>0</td>\n      <td>0</td>\n      <td>0</td>\n      <td>0</td>\n      <td>0</td>\n      <td>...</td>\n      <td>0</td>\n      <td>0</td>\n      <td>0</td>\n      <td>0</td>\n      <td>0</td>\n      <td>0</td>\n      <td>0</td>\n      <td>0</td>\n      <td>0</td>\n      <td>26</td>\n    </tr>\n    <tr>\n      <th>https://github.com/ARMmbed/mbedtls</th>\n      <td>0</td>\n      <td>0</td>\n      <td>0</td>\n      <td>0</td>\n      <td>0</td>\n      <td>0</td>\n      <td>0</td>\n      <td>0</td>\n      <td>0</td>\n      <td>0</td>\n      <td>...</td>\n      <td>0</td>\n      <td>0</td>\n      <td>0</td>\n      <td>0</td>\n      <td>0</td>\n      <td>0</td>\n      <td>0</td>\n      <td>0</td>\n      <td>0</td>\n      <td>2</td>\n    </tr>\n    <tr>\n      <th>https://github.com/AXDOOMER/doom-vanille</th>\n      <td>0</td>\n      <td>0</td>\n      <td>0</td>\n      <td>0</td>\n      <td>1</td>\n      <td>0</td>\n      <td>0</td>\n      <td>0</td>\n      <td>0</td>\n      <td>0</td>\n      <td>...</td>\n      <td>0</td>\n      <td>0</td>\n      <td>0</td>\n      <td>0</td>\n      <td>0</td>\n      <td>0</td>\n      <td>0</td>\n      <td>0</td>\n      <td>0</td>\n      <td>1</td>\n    </tr>\n    <tr>\n      <th>...</th>\n      <td>...</td>\n      <td>...</td>\n      <td>...</td>\n      <td>...</td>\n      <td>...</td>\n      <td>...</td>\n      <td>...</td>\n      <td>...</td>\n      <td>...</td>\n      <td>...</td>\n      <td>...</td>\n      <td>...</td>\n      <td>...</td>\n      <td>...</td>\n      <td>...</td>\n      <td>...</td>\n      <td>...</td>\n      <td>...</td>\n      <td>...</td>\n      <td>...</td>\n      <td>...</td>\n    </tr>\n    <tr>\n      <th>https://github.com/zeromq/libzmq</th>\n      <td>0</td>\n      <td>0</td>\n      <td>0</td>\n      <td>0</td>\n      <td>0</td>\n      <td>0</td>\n      <td>0</td>\n      <td>0</td>\n      <td>0</td>\n      <td>0</td>\n      <td>...</td>\n      <td>0</td>\n      <td>0</td>\n      <td>0</td>\n      <td>0</td>\n      <td>0</td>\n      <td>0</td>\n      <td>0</td>\n      <td>0</td>\n      <td>0</td>\n      <td>1</td>\n    </tr>\n    <tr>\n      <th>https://github.com/zhaozg/lua-openssl</th>\n      <td>0</td>\n      <td>0</td>\n      <td>0</td>\n      <td>0</td>\n      <td>0</td>\n      <td>0</td>\n      <td>0</td>\n      <td>0</td>\n      <td>0</td>\n      <td>0</td>\n      <td>...</td>\n      <td>0</td>\n      <td>0</td>\n      <td>0</td>\n      <td>0</td>\n      <td>0</td>\n      <td>0</td>\n      <td>0</td>\n      <td>0</td>\n      <td>0</td>\n      <td>3</td>\n    </tr>\n    <tr>\n      <th>https://github.com/zmartzone/mod_auth_openidc</th>\n      <td>0</td>\n      <td>0</td>\n      <td>0</td>\n      <td>0</td>\n      <td>0</td>\n      <td>0</td>\n      <td>0</td>\n      <td>0</td>\n      <td>0</td>\n      <td>0</td>\n      <td>...</td>\n      <td>0</td>\n      <td>0</td>\n      <td>0</td>\n      <td>0</td>\n      <td>0</td>\n      <td>0</td>\n      <td>0</td>\n      <td>0</td>\n      <td>0</td>\n      <td>14</td>\n    </tr>\n    <tr>\n      <th>https://github.com/znc/znc</th>\n      <td>0</td>\n      <td>0</td>\n      <td>0</td>\n      <td>0</td>\n      <td>0</td>\n      <td>0</td>\n      <td>0</td>\n      <td>0</td>\n      <td>0</td>\n      <td>0</td>\n      <td>...</td>\n      <td>0</td>\n      <td>0</td>\n      <td>0</td>\n      <td>0</td>\n      <td>0</td>\n      <td>0</td>\n      <td>0</td>\n      <td>1</td>\n      <td>0</td>\n      <td>12</td>\n    </tr>\n    <tr>\n      <th>https://github.com/zyantific/zydis</th>\n      <td>0</td>\n      <td>0</td>\n      <td>0</td>\n      <td>0</td>\n      <td>0</td>\n      <td>0</td>\n      <td>0</td>\n      <td>0</td>\n      <td>0</td>\n      <td>0</td>\n      <td>...</td>\n      <td>0</td>\n      <td>0</td>\n      <td>0</td>\n      <td>0</td>\n      <td>0</td>\n      <td>0</td>\n      <td>0</td>\n      <td>0</td>\n      <td>0</td>\n      <td>2</td>\n    </tr>\n  </tbody>\n</table>\n<p>591 rows × 130 columns</p>\n</div>"
     },
     "execution_count": 17,
     "metadata": {},
     "output_type": "execute_result"
    }
   ],
   "source": [
    "df = vul_rows_df\n",
    "top_10_categories = df['repo_url'].value_counts().index\n",
    "result = df[df['repo_url'].isin(top_10_categories)].groupby('repo_url')['cwe_id'].value_counts()\n",
    "result_df = result.unstack(fill_value=0)\n",
    "result_df['Total'] = result_df.sum(axis=1)\n",
    "result_df"
   ],
   "metadata": {
    "collapsed": false,
    "ExecuteTime": {
     "end_time": "2024-11-27T13:38:16.100055Z",
     "start_time": "2024-11-27T13:38:16.056170Z"
    }
   },
   "id": "ab753ee1922dc64e",
   "execution_count": 17
  },
  {
   "cell_type": "code",
   "outputs": [
    {
     "data": {
      "text/plain": "cwe_id                                              Total  CWE-125  CWE-119  \\\nrepo_url                                                                      \nhttps://github.com/01org/tpm2.0-tools                   2        0        0   \nhttps://github.com/10gen-archive/mongo-c-driver...     36        0        0   \nhttps://github.com/389ds/389-ds-base                   26        0        0   \nhttps://github.com/ARMmbed/mbedtls                      2        0        0   \nhttps://github.com/AXDOOMER/doom-vanille                1        0        0   \n...                                                   ...      ...      ...   \nhttps://github.com/zeromq/libzmq                        1        0        0   \nhttps://github.com/zhaozg/lua-openssl                   3        0        0   \nhttps://github.com/zmartzone/mod_auth_openidc          14        0        0   \nhttps://github.com/znc/znc                             12        0        0   \nhttps://github.com/zyantific/zydis                      2        0        0   \n\ncwe_id                                              CWE-787  CWE-476  CWE-190  \\\nrepo_url                                                                        \nhttps://github.com/01org/tpm2.0-tools                     0        0        0   \nhttps://github.com/10gen-archive/mongo-c-driver...        0        0       36   \nhttps://github.com/389ds/389-ds-base                      0        0        0   \nhttps://github.com/ARMmbed/mbedtls                        0        0        1   \nhttps://github.com/AXDOOMER/doom-vanille                  0        0        0   \n...                                                     ...      ...      ...   \nhttps://github.com/zeromq/libzmq                          1        0        0   \nhttps://github.com/zhaozg/lua-openssl                     0        0        0   \nhttps://github.com/zmartzone/mod_auth_openidc             0        0        0   \nhttps://github.com/znc/znc                                0        1        0   \nhttps://github.com/zyantific/zydis                        0        0        0   \n\ncwe_id                                              NVD-CWE-noinfo  CWE-20  \\\nrepo_url                                                                     \nhttps://github.com/01org/tpm2.0-tools                            0       0   \nhttps://github.com/10gen-archive/mongo-c-driver...               0       0   \nhttps://github.com/389ds/389-ds-base                             0       0   \nhttps://github.com/ARMmbed/mbedtls                               0       0   \nhttps://github.com/AXDOOMER/doom-vanille                         0       0   \n...                                                            ...     ...   \nhttps://github.com/zeromq/libzmq                                 0       0   \nhttps://github.com/zhaozg/lua-openssl                            0       0   \nhttps://github.com/zmartzone/mod_auth_openidc                    0       0   \nhttps://github.com/znc/znc                                       0       9   \nhttps://github.com/zyantific/zydis                               0       0   \n\ncwe_id                                              CWE-416  CWE-120  ...  \\\nrepo_url                                                              ...   \nhttps://github.com/01org/tpm2.0-tools                     0        0  ...   \nhttps://github.com/10gen-archive/mongo-c-driver...        0        0  ...   \nhttps://github.com/389ds/389-ds-base                      0        0  ...   \nhttps://github.com/ARMmbed/mbedtls                        0        0  ...   \nhttps://github.com/AXDOOMER/doom-vanille                  0        1  ...   \n...                                                     ...      ...  ...   \nhttps://github.com/zeromq/libzmq                          0        0  ...   \nhttps://github.com/zhaozg/lua-openssl                     0        0  ...   \nhttps://github.com/zmartzone/mod_auth_openidc             0        0  ...   \nhttps://github.com/znc/znc                                0        0  ...   \nhttps://github.com/zyantific/zydis                        0        0  ...   \n\ncwe_id                                              CWE-362  CWE-200  CWE-415  \\\nrepo_url                                                                        \nhttps://github.com/01org/tpm2.0-tools                     0        0        0   \nhttps://github.com/10gen-archive/mongo-c-driver...        0        0        0   \nhttps://github.com/389ds/389-ds-base                      0       22        0   \nhttps://github.com/ARMmbed/mbedtls                        0        0        0   \nhttps://github.com/AXDOOMER/doom-vanille                  0        0        0   \n...                                                     ...      ...      ...   \nhttps://github.com/zeromq/libzmq                          0        0        0   \nhttps://github.com/zhaozg/lua-openssl                     0        0        0   \nhttps://github.com/zmartzone/mod_auth_openidc             0        0        0   \nhttps://github.com/znc/znc                                0        0        0   \nhttps://github.com/zyantific/zydis                        0        0        0   \n\ncwe_id                                              CWE-264  CWE-617  CWE-399  \\\nrepo_url                                                                        \nhttps://github.com/01org/tpm2.0-tools                     0        0        0   \nhttps://github.com/10gen-archive/mongo-c-driver...        0        0        0   \nhttps://github.com/389ds/389-ds-base                      0        0        0   \nhttps://github.com/ARMmbed/mbedtls                        0        0        0   \nhttps://github.com/AXDOOMER/doom-vanille                  0        0        0   \n...                                                     ...      ...      ...   \nhttps://github.com/zeromq/libzmq                          0        0        0   \nhttps://github.com/zhaozg/lua-openssl                     0        0        0   \nhttps://github.com/zmartzone/mod_auth_openidc             0        0        0   \nhttps://github.com/znc/znc                                0        0        0   \nhttps://github.com/zyantific/zydis                        0        0        0   \n\ncwe_id                                              CWE-189  CWE-22  CWE-400  \\\nrepo_url                                                                       \nhttps://github.com/01org/tpm2.0-tools                     0       0        0   \nhttps://github.com/10gen-archive/mongo-c-driver...        0       0        0   \nhttps://github.com/389ds/389-ds-base                      0       0        0   \nhttps://github.com/ARMmbed/mbedtls                        0       0        0   \nhttps://github.com/AXDOOMER/doom-vanille                  0       0        0   \n...                                                     ...     ...      ...   \nhttps://github.com/zeromq/libzmq                          0       0        0   \nhttps://github.com/zhaozg/lua-openssl                     0       0        0   \nhttps://github.com/zmartzone/mod_auth_openidc             0       0        0   \nhttps://github.com/znc/znc                                0       1        0   \nhttps://github.com/zyantific/zydis                        0       0        0   \n\ncwe_id                                              CWE-667  \nrepo_url                                                     \nhttps://github.com/01org/tpm2.0-tools                     0  \nhttps://github.com/10gen-archive/mongo-c-driver...        0  \nhttps://github.com/389ds/389-ds-base                      0  \nhttps://github.com/ARMmbed/mbedtls                        0  \nhttps://github.com/AXDOOMER/doom-vanille                  0  \n...                                                     ...  \nhttps://github.com/zeromq/libzmq                          0  \nhttps://github.com/zhaozg/lua-openssl                     0  \nhttps://github.com/zmartzone/mod_auth_openidc             0  \nhttps://github.com/znc/znc                                0  \nhttps://github.com/zyantific/zydis                        0  \n\n[591 rows x 21 columns]",
      "text/html": "<div>\n<style scoped>\n    .dataframe tbody tr th:only-of-type {\n        vertical-align: middle;\n    }\n\n    .dataframe tbody tr th {\n        vertical-align: top;\n    }\n\n    .dataframe thead th {\n        text-align: right;\n    }\n</style>\n<table border=\"1\" class=\"dataframe\">\n  <thead>\n    <tr style=\"text-align: right;\">\n      <th>cwe_id</th>\n      <th>Total</th>\n      <th>CWE-125</th>\n      <th>CWE-119</th>\n      <th>CWE-787</th>\n      <th>CWE-476</th>\n      <th>CWE-190</th>\n      <th>NVD-CWE-noinfo</th>\n      <th>CWE-20</th>\n      <th>CWE-416</th>\n      <th>CWE-120</th>\n      <th>...</th>\n      <th>CWE-362</th>\n      <th>CWE-200</th>\n      <th>CWE-415</th>\n      <th>CWE-264</th>\n      <th>CWE-617</th>\n      <th>CWE-399</th>\n      <th>CWE-189</th>\n      <th>CWE-22</th>\n      <th>CWE-400</th>\n      <th>CWE-667</th>\n    </tr>\n    <tr>\n      <th>repo_url</th>\n      <th></th>\n      <th></th>\n      <th></th>\n      <th></th>\n      <th></th>\n      <th></th>\n      <th></th>\n      <th></th>\n      <th></th>\n      <th></th>\n      <th></th>\n      <th></th>\n      <th></th>\n      <th></th>\n      <th></th>\n      <th></th>\n      <th></th>\n      <th></th>\n      <th></th>\n      <th></th>\n      <th></th>\n    </tr>\n  </thead>\n  <tbody>\n    <tr>\n      <th>https://github.com/01org/tpm2.0-tools</th>\n      <td>2</td>\n      <td>0</td>\n      <td>0</td>\n      <td>0</td>\n      <td>0</td>\n      <td>0</td>\n      <td>0</td>\n      <td>0</td>\n      <td>0</td>\n      <td>0</td>\n      <td>...</td>\n      <td>0</td>\n      <td>0</td>\n      <td>0</td>\n      <td>0</td>\n      <td>0</td>\n      <td>0</td>\n      <td>0</td>\n      <td>0</td>\n      <td>0</td>\n      <td>0</td>\n    </tr>\n    <tr>\n      <th>https://github.com/10gen-archive/mongo-c-driver-legacy</th>\n      <td>36</td>\n      <td>0</td>\n      <td>0</td>\n      <td>0</td>\n      <td>0</td>\n      <td>36</td>\n      <td>0</td>\n      <td>0</td>\n      <td>0</td>\n      <td>0</td>\n      <td>...</td>\n      <td>0</td>\n      <td>0</td>\n      <td>0</td>\n      <td>0</td>\n      <td>0</td>\n      <td>0</td>\n      <td>0</td>\n      <td>0</td>\n      <td>0</td>\n      <td>0</td>\n    </tr>\n    <tr>\n      <th>https://github.com/389ds/389-ds-base</th>\n      <td>26</td>\n      <td>0</td>\n      <td>0</td>\n      <td>0</td>\n      <td>0</td>\n      <td>0</td>\n      <td>0</td>\n      <td>0</td>\n      <td>0</td>\n      <td>0</td>\n      <td>...</td>\n      <td>0</td>\n      <td>22</td>\n      <td>0</td>\n      <td>0</td>\n      <td>0</td>\n      <td>0</td>\n      <td>0</td>\n      <td>0</td>\n      <td>0</td>\n      <td>0</td>\n    </tr>\n    <tr>\n      <th>https://github.com/ARMmbed/mbedtls</th>\n      <td>2</td>\n      <td>0</td>\n      <td>0</td>\n      <td>0</td>\n      <td>0</td>\n      <td>1</td>\n      <td>0</td>\n      <td>0</td>\n      <td>0</td>\n      <td>0</td>\n      <td>...</td>\n      <td>0</td>\n      <td>0</td>\n      <td>0</td>\n      <td>0</td>\n      <td>0</td>\n      <td>0</td>\n      <td>0</td>\n      <td>0</td>\n      <td>0</td>\n      <td>0</td>\n    </tr>\n    <tr>\n      <th>https://github.com/AXDOOMER/doom-vanille</th>\n      <td>1</td>\n      <td>0</td>\n      <td>0</td>\n      <td>0</td>\n      <td>0</td>\n      <td>0</td>\n      <td>0</td>\n      <td>0</td>\n      <td>0</td>\n      <td>1</td>\n      <td>...</td>\n      <td>0</td>\n      <td>0</td>\n      <td>0</td>\n      <td>0</td>\n      <td>0</td>\n      <td>0</td>\n      <td>0</td>\n      <td>0</td>\n      <td>0</td>\n      <td>0</td>\n    </tr>\n    <tr>\n      <th>...</th>\n      <td>...</td>\n      <td>...</td>\n      <td>...</td>\n      <td>...</td>\n      <td>...</td>\n      <td>...</td>\n      <td>...</td>\n      <td>...</td>\n      <td>...</td>\n      <td>...</td>\n      <td>...</td>\n      <td>...</td>\n      <td>...</td>\n      <td>...</td>\n      <td>...</td>\n      <td>...</td>\n      <td>...</td>\n      <td>...</td>\n      <td>...</td>\n      <td>...</td>\n      <td>...</td>\n    </tr>\n    <tr>\n      <th>https://github.com/zeromq/libzmq</th>\n      <td>1</td>\n      <td>0</td>\n      <td>0</td>\n      <td>1</td>\n      <td>0</td>\n      <td>0</td>\n      <td>0</td>\n      <td>0</td>\n      <td>0</td>\n      <td>0</td>\n      <td>...</td>\n      <td>0</td>\n      <td>0</td>\n      <td>0</td>\n      <td>0</td>\n      <td>0</td>\n      <td>0</td>\n      <td>0</td>\n      <td>0</td>\n      <td>0</td>\n      <td>0</td>\n    </tr>\n    <tr>\n      <th>https://github.com/zhaozg/lua-openssl</th>\n      <td>3</td>\n      <td>0</td>\n      <td>0</td>\n      <td>0</td>\n      <td>0</td>\n      <td>0</td>\n      <td>0</td>\n      <td>0</td>\n      <td>0</td>\n      <td>0</td>\n      <td>...</td>\n      <td>0</td>\n      <td>0</td>\n      <td>0</td>\n      <td>0</td>\n      <td>0</td>\n      <td>0</td>\n      <td>0</td>\n      <td>0</td>\n      <td>0</td>\n      <td>0</td>\n    </tr>\n    <tr>\n      <th>https://github.com/zmartzone/mod_auth_openidc</th>\n      <td>14</td>\n      <td>0</td>\n      <td>0</td>\n      <td>0</td>\n      <td>0</td>\n      <td>0</td>\n      <td>0</td>\n      <td>0</td>\n      <td>0</td>\n      <td>0</td>\n      <td>...</td>\n      <td>0</td>\n      <td>0</td>\n      <td>0</td>\n      <td>0</td>\n      <td>0</td>\n      <td>0</td>\n      <td>0</td>\n      <td>0</td>\n      <td>0</td>\n      <td>0</td>\n    </tr>\n    <tr>\n      <th>https://github.com/znc/znc</th>\n      <td>12</td>\n      <td>0</td>\n      <td>0</td>\n      <td>0</td>\n      <td>1</td>\n      <td>0</td>\n      <td>0</td>\n      <td>9</td>\n      <td>0</td>\n      <td>0</td>\n      <td>...</td>\n      <td>0</td>\n      <td>0</td>\n      <td>0</td>\n      <td>0</td>\n      <td>0</td>\n      <td>0</td>\n      <td>0</td>\n      <td>1</td>\n      <td>0</td>\n      <td>0</td>\n    </tr>\n    <tr>\n      <th>https://github.com/zyantific/zydis</th>\n      <td>2</td>\n      <td>0</td>\n      <td>0</td>\n      <td>0</td>\n      <td>0</td>\n      <td>0</td>\n      <td>0</td>\n      <td>0</td>\n      <td>0</td>\n      <td>0</td>\n      <td>...</td>\n      <td>0</td>\n      <td>0</td>\n      <td>0</td>\n      <td>0</td>\n      <td>0</td>\n      <td>0</td>\n      <td>0</td>\n      <td>0</td>\n      <td>0</td>\n      <td>0</td>\n    </tr>\n  </tbody>\n</table>\n<p>591 rows × 21 columns</p>\n</div>"
     },
     "execution_count": 19,
     "metadata": {},
     "output_type": "execute_result"
    }
   ],
   "source": [
    "top_5_values = result_df.sum(axis=0).nlargest(21).index\n",
    "result_df1 = result_df[top_5_values].copy()\n",
    "result_df1"
   ],
   "metadata": {
    "collapsed": false,
    "ExecuteTime": {
     "end_time": "2024-11-27T13:55:33.653562Z",
     "start_time": "2024-11-27T13:55:33.623396Z"
    }
   },
   "id": "449d63e1c1b81a41",
   "execution_count": 19
  },
  {
   "cell_type": "code",
   "outputs": [
    {
     "data": {
      "text/plain": "['https://github.com/torvalds/linux',\n 'https://github.com/tensorflow/tensorflow',\n 'https://github.com/radareorg/radare2',\n 'https://github.com/gpac/gpac',\n 'https://github.com/Oryx-Embedded/CycloneTCP',\n 'https://github.com/ImageMagick/ImageMagick',\n 'https://github.com/FFmpeg/FFmpeg',\n 'https://github.com/php/php-src',\n 'https://github.com/the-tcpdump-group/tcpdump',\n 'https://github.com/krb5/krb5']"
     },
     "execution_count": 22,
     "metadata": {},
     "output_type": "execute_result"
    }
   ],
   "source": [
    "repo_url = vul_rows_df['repo_url'].value_counts().head(10).index.tolist()\n"
   ],
   "metadata": {
    "collapsed": false,
    "ExecuteTime": {
     "end_time": "2024-09-02T12:38:23.376184Z",
     "start_time": "2024-09-02T12:38:23.356184Z"
    }
   },
   "id": "86ceffcfd5ae0b71",
   "execution_count": 22
  },
  {
   "cell_type": "code",
   "outputs": [
    {
     "data": {
      "text/plain": "commit_type          cwe_id     FC    VCC  commit_in_total\n0                  CWE-1021    1.0    5.0              6.0\n1                  CWE-1077    1.0    1.0              2.0\n2                   CWE-114    2.0    1.0              3.0\n3                   CWE-116    3.0   26.0             29.0\n4                  CWE-1187    1.0    0.0              1.0\n..                      ...    ...    ...              ...\n135                  CWE-94    6.0   16.0             22.0\n136                 CWE-943    1.0    2.0              3.0\n137                  CWE-96    1.0    2.0              3.0\n138           NVD-CWE-Other  118.0  192.0            310.0\n139          NVD-CWE-noinfo  139.0  335.0            474.0\n\n[140 rows x 4 columns]",
      "text/html": "<div>\n<style scoped>\n    .dataframe tbody tr th:only-of-type {\n        vertical-align: middle;\n    }\n\n    .dataframe tbody tr th {\n        vertical-align: top;\n    }\n\n    .dataframe thead th {\n        text-align: right;\n    }\n</style>\n<table border=\"1\" class=\"dataframe\">\n  <thead>\n    <tr style=\"text-align: right;\">\n      <th>commit_type</th>\n      <th>cwe_id</th>\n      <th>FC</th>\n      <th>VCC</th>\n      <th>commit_in_total</th>\n    </tr>\n  </thead>\n  <tbody>\n    <tr>\n      <th>0</th>\n      <td>CWE-1021</td>\n      <td>1.0</td>\n      <td>5.0</td>\n      <td>6.0</td>\n    </tr>\n    <tr>\n      <th>1</th>\n      <td>CWE-1077</td>\n      <td>1.0</td>\n      <td>1.0</td>\n      <td>2.0</td>\n    </tr>\n    <tr>\n      <th>2</th>\n      <td>CWE-114</td>\n      <td>2.0</td>\n      <td>1.0</td>\n      <td>3.0</td>\n    </tr>\n    <tr>\n      <th>3</th>\n      <td>CWE-116</td>\n      <td>3.0</td>\n      <td>26.0</td>\n      <td>29.0</td>\n    </tr>\n    <tr>\n      <th>4</th>\n      <td>CWE-1187</td>\n      <td>1.0</td>\n      <td>0.0</td>\n      <td>1.0</td>\n    </tr>\n    <tr>\n      <th>...</th>\n      <td>...</td>\n      <td>...</td>\n      <td>...</td>\n      <td>...</td>\n    </tr>\n    <tr>\n      <th>135</th>\n      <td>CWE-94</td>\n      <td>6.0</td>\n      <td>16.0</td>\n      <td>22.0</td>\n    </tr>\n    <tr>\n      <th>136</th>\n      <td>CWE-943</td>\n      <td>1.0</td>\n      <td>2.0</td>\n      <td>3.0</td>\n    </tr>\n    <tr>\n      <th>137</th>\n      <td>CWE-96</td>\n      <td>1.0</td>\n      <td>2.0</td>\n      <td>3.0</td>\n    </tr>\n    <tr>\n      <th>138</th>\n      <td>NVD-CWE-Other</td>\n      <td>118.0</td>\n      <td>192.0</td>\n      <td>310.0</td>\n    </tr>\n    <tr>\n      <th>139</th>\n      <td>NVD-CWE-noinfo</td>\n      <td>139.0</td>\n      <td>335.0</td>\n      <td>474.0</td>\n    </tr>\n  </tbody>\n</table>\n<p>140 rows × 4 columns</p>\n</div>"
     },
     "execution_count": 32,
     "metadata": {},
     "output_type": "execute_result"
    }
   ],
   "source": [
    "# Group by 'repo_url' and 'commit_type', and then count the number of commits\n",
    "commit_counts_by_type = df2.groupby(['cwe_id', 'commit_type']).size().reset_index(name='count')\n",
    "\n",
    "# Pivot the data so that 'commit_type' becomes columns\n",
    "commit_counts_pivot = commit_counts_by_type.pivot_table(index='cwe_id', columns='commit_type', values='count', fill_value=0).reset_index()\n",
    "\n",
    "# Display the pivoted results\n",
    "commit_counts_pivot['commit_in_total'] = commit_counts_pivot.get('FC', 0) + commit_counts_pivot.get('VCC', 0)\n",
    "commit_counts_pivot"
   ],
   "metadata": {
    "collapsed": false,
    "ExecuteTime": {
     "end_time": "2024-08-30T14:37:22.241347Z",
     "start_time": "2024-08-30T14:37:22.210153Z"
    }
   },
   "id": "2fbc61bfd24506e5",
   "execution_count": 32
  },
  {
   "cell_type": "code",
   "execution_count": 3,
   "id": "initial_id",
   "metadata": {
    "collapsed": true,
    "ExecuteTime": {
     "end_time": "2024-08-29T12:57:43.667669Z",
     "start_time": "2024-08-29T12:57:43.490075Z"
    }
   },
   "outputs": [
    {
     "name": "stdout",
     "output_type": "stream",
     "text": [
      "(4161, 5)\n",
      "(3917, 5)\n"
     ]
    },
    {
     "data": {
      "text/plain": "0         True\n1        False\n2        False\n3        False\n4        False\n         ...  \n11788    False\n11789    False\n11790    False\n11791    False\n11792    False\nName: hash, Length: 11793, dtype: bool"
     },
     "execution_count": 3,
     "metadata": {},
     "output_type": "execute_result"
    }
   ],
   "source": [
    "df1 = pd.read_csv('final_dataset/cve_fc_vcc_mapping.csv')\n",
    "print(df1.shape)\n",
    "df2 = pd.read_csv('final_dataset/commit_info.csv')\n",
    "df1 = df1.drop_duplicates(subset='fc_hash')\n",
    "print(df1.shape)\n",
    "# Check if df2['hash'] is in df1['fc_hash']\n",
    "matches = df2['hash'].isin(df1['fc_hash'])\n",
    "\n",
    "matches"
   ]
  },
  {
   "cell_type": "code",
   "outputs": [],
   "source": [],
   "metadata": {
    "collapsed": false
   },
   "id": "1b5b18985b1278e3"
  }
 ],
 "metadata": {
  "kernelspec": {
   "display_name": "Python 3",
   "language": "python",
   "name": "python3"
  },
  "language_info": {
   "codemirror_mode": {
    "name": "ipython",
    "version": 2
   },
   "file_extension": ".py",
   "mimetype": "text/x-python",
   "name": "python",
   "nbconvert_exporter": "python",
   "pygments_lexer": "ipython2",
   "version": "2.7.6"
  }
 },
 "nbformat": 4,
 "nbformat_minor": 5
}
