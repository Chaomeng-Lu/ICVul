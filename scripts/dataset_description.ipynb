{
 "cells": [
  {
   "cell_type": "code",
   "execution_count": 1,
   "id": "initial_id",
   "metadata": {
    "collapsed": true,
    "ExecuteTime": {
     "end_time": "2024-11-27T12:25:53.005997Z",
     "start_time": "2024-11-27T12:25:39.486488Z"
    }
   },
   "outputs": [
    {
     "data": {
      "text/plain": "                                           hash  \\\n0      cb59e840838193957a84ad22f7e1465a06a7c10c   \n1      2d2669b62984b8d76b05a6a045390a3250317d21   \n2      f7e68bbf405a45d6e7c5b8fc384ff1ba20dd7aa4   \n3      23a2bc2289ad3bbc41093c2b50a9c17b37b4d73d   \n4      1c2fb3f38e250dd3b88612435869acf92b4f51e2   \n...                                         ...   \n13019  956a70cfb12d8aa0cdae876cd6f1ee0778e55d1d   \n13020  55dd08c210722aed81b38132f5fd4a04ec1943b5   \n13021  3336b5448f12c9eb25bf7a0cecda1315c4cf07ea   \n13022  5a3da366268825b26b470cde35658b67c1d11cd4   \n13023  fa6a76050d82894365dfe32916903ef7fee3ffcd   \n\n                                                     msg  \\\n0      [PATCH] sg.c: update\\n\\nThe attachment combine...   \n1      [PATCH] ARM: 2651/3: kernel helpers for NPTL s...   \n2      [PATCH] ARM: select PCI, ISA and ISA_DMA\\n\\nRa...   \n3      [SCSI] drivers/scsi/dpt_i2o.c: cleanup useless...   \n4      [SCSI] drivers/scsi/dpt_i2o.c: fix compile war...   \n...                                                  ...   \n13019  Added missing formatter functions\\n\\n- `ZydisF...   \n13020             Fix struct initialization in formatter   \n13021  inspect: Split code into separate files.\\n\\nTh...   \n13022  inspect: Use CLEANUP_* macros in inspection code.   \n13023  inspection: Fix double-free when certain guest...   \n\n                                  author                author_date  \\\n0                       dougg@torque.net  2005-04-02 13:51:23-06:00   \n1                    nico@org.rmk.(none)  2005-04-29 22:08:33+01:00   \n2            rmk@dyn-67.arm.linux.org.uk  2005-05-05 14:49:01+01:00   \n3          benoit.boissinot@ens-lyon.org  2005-04-25 19:46:30-07:00   \n4          benoit.boissinot@ens-lyon.org  2005-04-25 19:46:48-07:00   \n...                                  ...                        ...   \n13019  flobernd@users.noreply.github.com  2018-09-19 16:51:08+02:00   \n13020              athre0z@zyantific.com  2021-10-24 14:36:42+02:00   \n13021                  rjones@redhat.com  2011-04-13 23:27:05+01:00   \n13022                  rjones@redhat.com  2013-01-24 17:07:38+00:00   \n13023                  rjones@redhat.com  2013-05-28 16:15:59+01:00   \n\n       author_timezone                          committer  \\\n0                21600                       jejb@titanic   \n1                -3600        rmk+kernel@arm.linux.org.uk   \n2                -3600        rmk@dyn-67.arm.linux.org.uk   \n3                25200               jejb@mulgrave.(none)   \n4                25200               jejb@mulgrave.(none)   \n...                ...                                ...   \n13019            -7200  flobernd@users.noreply.github.com   \n13020            -7200              athre0z@zyantific.com   \n13021            -3600                  rjones@redhat.com   \n13022                0                  rjones@redhat.com   \n13023            -3600                  rjones@redhat.com   \n\n                  committer_date  committer_timezone  in_main_branch  merge  \\\n0      2005-04-16 20:08:52-05:00               18000            True  False   \n1      2005-04-29 22:08:33+01:00               -3600            True  False   \n2      2005-05-05 14:49:01+01:00               -3600            True  False   \n3      2005-05-20 12:53:36-05:00               18000            True  False   \n4      2005-05-20 12:53:37-05:00               18000            True  False   \n...                          ...                 ...             ...    ...   \n13019  2018-09-19 16:51:08+02:00               -7200            True  False   \n13020  2021-10-28 14:57:00+02:00               -7200            True  False   \n13021  2011-04-14 11:29:19+01:00               -3600            True  False   \n13022  2013-01-28 18:01:19+00:00                   0            True  False   \n13023  2013-05-28 16:20:09+01:00               -3600            True  False   \n\n       ... num_lines_deleted  num_lines_added  num_lines_changed  \\\n0      ...                71              132                203   \n1      ...                11              277                288   \n2      ...                 8               28                 36   \n3      ...                19                1                 20   \n4      ...                17               17                 34   \n...    ...               ...              ...                ...   \n13019  ...                63              203                266   \n13020  ...                16               25                 41   \n13021  ...              2574             2928               5502   \n13022  ...               331              151                482   \n13023  ...                 1                3                  4   \n\n       num_files_changed  dmm_unit_size  dmm_unit_complexity  \\\n0                      1       0.000000             0.000000   \n1                      4       0.944444             0.944444   \n2                      4            NaN                  NaN   \n3                      1       0.750000             0.750000   \n4                      2            NaN                  NaN   \n...                  ...            ...                  ...   \n13019                  3       0.314286             0.628571   \n13020                  2       0.000000             1.000000   \n13021                 12       0.833333             0.750000   \n13022                  7       1.000000             0.852564   \n13023                  1       0.000000             1.000000   \n\n       dmm_unit_interfacing  commit_type         cwe_id  \\\n0                  0.118644          VCC        CWE-200   \n1                  1.000000          VCC        CWE-264   \n2                       NaN          VCC        CWE-125   \n3                  0.000000          VCC        CWE-667   \n4                       NaN          VCC        CWE-667   \n...                     ...          ...            ...   \n13019              0.000000          VCC        CWE-908   \n13020              0.000000           FC        CWE-908   \n13021              0.875000          VCC  NVD-CWE-Other   \n13022              0.455128          VCC  NVD-CWE-Other   \n13023              1.000000           FC  NVD-CWE-Other   \n\n                                       repo_url  \n0             https://github.com/torvalds/linux  \n1             https://github.com/torvalds/linux  \n2             https://github.com/torvalds/linux  \n3             https://github.com/torvalds/linux  \n4             https://github.com/torvalds/linux  \n...                                         ...  \n13019        https://github.com/zyantific/zydis  \n13020        https://github.com/zyantific/zydis  \n13021  https://github.com/libguestfs/libguestfs  \n13022  https://github.com/libguestfs/libguestfs  \n13023  https://github.com/libguestfs/libguestfs  \n\n[13024 rows x 21 columns]",
      "text/html": "<div>\n<style scoped>\n    .dataframe tbody tr th:only-of-type {\n        vertical-align: middle;\n    }\n\n    .dataframe tbody tr th {\n        vertical-align: top;\n    }\n\n    .dataframe thead th {\n        text-align: right;\n    }\n</style>\n<table border=\"1\" class=\"dataframe\">\n  <thead>\n    <tr style=\"text-align: right;\">\n      <th></th>\n      <th>hash</th>\n      <th>msg</th>\n      <th>author</th>\n      <th>author_date</th>\n      <th>author_timezone</th>\n      <th>committer</th>\n      <th>committer_date</th>\n      <th>committer_timezone</th>\n      <th>in_main_branch</th>\n      <th>merge</th>\n      <th>...</th>\n      <th>num_lines_deleted</th>\n      <th>num_lines_added</th>\n      <th>num_lines_changed</th>\n      <th>num_files_changed</th>\n      <th>dmm_unit_size</th>\n      <th>dmm_unit_complexity</th>\n      <th>dmm_unit_interfacing</th>\n      <th>commit_type</th>\n      <th>cwe_id</th>\n      <th>repo_url</th>\n    </tr>\n  </thead>\n  <tbody>\n    <tr>\n      <th>0</th>\n      <td>cb59e840838193957a84ad22f7e1465a06a7c10c</td>\n      <td>[PATCH] sg.c: update\\n\\nThe attachment combine...</td>\n      <td>dougg@torque.net</td>\n      <td>2005-04-02 13:51:23-06:00</td>\n      <td>21600</td>\n      <td>jejb@titanic</td>\n      <td>2005-04-16 20:08:52-05:00</td>\n      <td>18000</td>\n      <td>True</td>\n      <td>False</td>\n      <td>...</td>\n      <td>71</td>\n      <td>132</td>\n      <td>203</td>\n      <td>1</td>\n      <td>0.000000</td>\n      <td>0.000000</td>\n      <td>0.118644</td>\n      <td>VCC</td>\n      <td>CWE-200</td>\n      <td>https://github.com/torvalds/linux</td>\n    </tr>\n    <tr>\n      <th>1</th>\n      <td>2d2669b62984b8d76b05a6a045390a3250317d21</td>\n      <td>[PATCH] ARM: 2651/3: kernel helpers for NPTL s...</td>\n      <td>nico@org.rmk.(none)</td>\n      <td>2005-04-29 22:08:33+01:00</td>\n      <td>-3600</td>\n      <td>rmk+kernel@arm.linux.org.uk</td>\n      <td>2005-04-29 22:08:33+01:00</td>\n      <td>-3600</td>\n      <td>True</td>\n      <td>False</td>\n      <td>...</td>\n      <td>11</td>\n      <td>277</td>\n      <td>288</td>\n      <td>4</td>\n      <td>0.944444</td>\n      <td>0.944444</td>\n      <td>1.000000</td>\n      <td>VCC</td>\n      <td>CWE-264</td>\n      <td>https://github.com/torvalds/linux</td>\n    </tr>\n    <tr>\n      <th>2</th>\n      <td>f7e68bbf405a45d6e7c5b8fc384ff1ba20dd7aa4</td>\n      <td>[PATCH] ARM: select PCI, ISA and ISA_DMA\\n\\nRa...</td>\n      <td>rmk@dyn-67.arm.linux.org.uk</td>\n      <td>2005-05-05 14:49:01+01:00</td>\n      <td>-3600</td>\n      <td>rmk@dyn-67.arm.linux.org.uk</td>\n      <td>2005-05-05 14:49:01+01:00</td>\n      <td>-3600</td>\n      <td>True</td>\n      <td>False</td>\n      <td>...</td>\n      <td>8</td>\n      <td>28</td>\n      <td>36</td>\n      <td>4</td>\n      <td>NaN</td>\n      <td>NaN</td>\n      <td>NaN</td>\n      <td>VCC</td>\n      <td>CWE-125</td>\n      <td>https://github.com/torvalds/linux</td>\n    </tr>\n    <tr>\n      <th>3</th>\n      <td>23a2bc2289ad3bbc41093c2b50a9c17b37b4d73d</td>\n      <td>[SCSI] drivers/scsi/dpt_i2o.c: cleanup useless...</td>\n      <td>benoit.boissinot@ens-lyon.org</td>\n      <td>2005-04-25 19:46:30-07:00</td>\n      <td>25200</td>\n      <td>jejb@mulgrave.(none)</td>\n      <td>2005-05-20 12:53:36-05:00</td>\n      <td>18000</td>\n      <td>True</td>\n      <td>False</td>\n      <td>...</td>\n      <td>19</td>\n      <td>1</td>\n      <td>20</td>\n      <td>1</td>\n      <td>0.750000</td>\n      <td>0.750000</td>\n      <td>0.000000</td>\n      <td>VCC</td>\n      <td>CWE-667</td>\n      <td>https://github.com/torvalds/linux</td>\n    </tr>\n    <tr>\n      <th>4</th>\n      <td>1c2fb3f38e250dd3b88612435869acf92b4f51e2</td>\n      <td>[SCSI] drivers/scsi/dpt_i2o.c: fix compile war...</td>\n      <td>benoit.boissinot@ens-lyon.org</td>\n      <td>2005-04-25 19:46:48-07:00</td>\n      <td>25200</td>\n      <td>jejb@mulgrave.(none)</td>\n      <td>2005-05-20 12:53:37-05:00</td>\n      <td>18000</td>\n      <td>True</td>\n      <td>False</td>\n      <td>...</td>\n      <td>17</td>\n      <td>17</td>\n      <td>34</td>\n      <td>2</td>\n      <td>NaN</td>\n      <td>NaN</td>\n      <td>NaN</td>\n      <td>VCC</td>\n      <td>CWE-667</td>\n      <td>https://github.com/torvalds/linux</td>\n    </tr>\n    <tr>\n      <th>...</th>\n      <td>...</td>\n      <td>...</td>\n      <td>...</td>\n      <td>...</td>\n      <td>...</td>\n      <td>...</td>\n      <td>...</td>\n      <td>...</td>\n      <td>...</td>\n      <td>...</td>\n      <td>...</td>\n      <td>...</td>\n      <td>...</td>\n      <td>...</td>\n      <td>...</td>\n      <td>...</td>\n      <td>...</td>\n      <td>...</td>\n      <td>...</td>\n      <td>...</td>\n      <td>...</td>\n    </tr>\n    <tr>\n      <th>13019</th>\n      <td>956a70cfb12d8aa0cdae876cd6f1ee0778e55d1d</td>\n      <td>Added missing formatter functions\\n\\n- `ZydisF...</td>\n      <td>flobernd@users.noreply.github.com</td>\n      <td>2018-09-19 16:51:08+02:00</td>\n      <td>-7200</td>\n      <td>flobernd@users.noreply.github.com</td>\n      <td>2018-09-19 16:51:08+02:00</td>\n      <td>-7200</td>\n      <td>True</td>\n      <td>False</td>\n      <td>...</td>\n      <td>63</td>\n      <td>203</td>\n      <td>266</td>\n      <td>3</td>\n      <td>0.314286</td>\n      <td>0.628571</td>\n      <td>0.000000</td>\n      <td>VCC</td>\n      <td>CWE-908</td>\n      <td>https://github.com/zyantific/zydis</td>\n    </tr>\n    <tr>\n      <th>13020</th>\n      <td>55dd08c210722aed81b38132f5fd4a04ec1943b5</td>\n      <td>Fix struct initialization in formatter</td>\n      <td>athre0z@zyantific.com</td>\n      <td>2021-10-24 14:36:42+02:00</td>\n      <td>-7200</td>\n      <td>athre0z@zyantific.com</td>\n      <td>2021-10-28 14:57:00+02:00</td>\n      <td>-7200</td>\n      <td>True</td>\n      <td>False</td>\n      <td>...</td>\n      <td>16</td>\n      <td>25</td>\n      <td>41</td>\n      <td>2</td>\n      <td>0.000000</td>\n      <td>1.000000</td>\n      <td>0.000000</td>\n      <td>FC</td>\n      <td>CWE-908</td>\n      <td>https://github.com/zyantific/zydis</td>\n    </tr>\n    <tr>\n      <th>13021</th>\n      <td>3336b5448f12c9eb25bf7a0cecda1315c4cf07ea</td>\n      <td>inspect: Split code into separate files.\\n\\nTh...</td>\n      <td>rjones@redhat.com</td>\n      <td>2011-04-13 23:27:05+01:00</td>\n      <td>-3600</td>\n      <td>rjones@redhat.com</td>\n      <td>2011-04-14 11:29:19+01:00</td>\n      <td>-3600</td>\n      <td>True</td>\n      <td>False</td>\n      <td>...</td>\n      <td>2574</td>\n      <td>2928</td>\n      <td>5502</td>\n      <td>12</td>\n      <td>0.833333</td>\n      <td>0.750000</td>\n      <td>0.875000</td>\n      <td>VCC</td>\n      <td>NVD-CWE-Other</td>\n      <td>https://github.com/libguestfs/libguestfs</td>\n    </tr>\n    <tr>\n      <th>13022</th>\n      <td>5a3da366268825b26b470cde35658b67c1d11cd4</td>\n      <td>inspect: Use CLEANUP_* macros in inspection code.</td>\n      <td>rjones@redhat.com</td>\n      <td>2013-01-24 17:07:38+00:00</td>\n      <td>0</td>\n      <td>rjones@redhat.com</td>\n      <td>2013-01-28 18:01:19+00:00</td>\n      <td>0</td>\n      <td>True</td>\n      <td>False</td>\n      <td>...</td>\n      <td>331</td>\n      <td>151</td>\n      <td>482</td>\n      <td>7</td>\n      <td>1.000000</td>\n      <td>0.852564</td>\n      <td>0.455128</td>\n      <td>VCC</td>\n      <td>NVD-CWE-Other</td>\n      <td>https://github.com/libguestfs/libguestfs</td>\n    </tr>\n    <tr>\n      <th>13023</th>\n      <td>fa6a76050d82894365dfe32916903ef7fee3ffcd</td>\n      <td>inspection: Fix double-free when certain guest...</td>\n      <td>rjones@redhat.com</td>\n      <td>2013-05-28 16:15:59+01:00</td>\n      <td>-3600</td>\n      <td>rjones@redhat.com</td>\n      <td>2013-05-28 16:20:09+01:00</td>\n      <td>-3600</td>\n      <td>True</td>\n      <td>False</td>\n      <td>...</td>\n      <td>1</td>\n      <td>3</td>\n      <td>4</td>\n      <td>1</td>\n      <td>0.000000</td>\n      <td>1.000000</td>\n      <td>1.000000</td>\n      <td>FC</td>\n      <td>NVD-CWE-Other</td>\n      <td>https://github.com/libguestfs/libguestfs</td>\n    </tr>\n  </tbody>\n</table>\n<p>13024 rows × 21 columns</p>\n</div>"
     },
     "execution_count": 1,
     "metadata": {},
     "output_type": "execute_result"
    }
   ],
   "source": [
    "import ast\n",
    "import pandas as pd\n",
    "\n",
    "df1 = pd.read_csv('..//data/processed/cve_fc_vcc_mapping.csv')\n",
    "df2 = pd.read_csv('..//data/processed/commit_info.csv')\n",
    "\n",
    "# Function to convert string-formatted list to actual list\n",
    "def convert_to_list(vcc_hash_str):\n",
    "    if pd.isna(vcc_hash_str):\n",
    "        return []\n",
    "    try:\n",
    "        # Convert the string to an actual list\n",
    "        return ast.literal_eval(vcc_hash_str.strip())\n",
    "    except (ValueError, SyntaxError):\n",
    "        return []\n",
    "\n",
    "# Apply the function to the 'vcc_hash' column to convert it to a list\n",
    "df1['vcc_hash'] = df1['vcc_hash'].apply(convert_to_list)\n",
    "\n",
    "# Create new columns in df2\n",
    "df2['commit_type'] = ''\n",
    "df2['cwe_id'] = ''\n",
    "df2['repo_url'] = ''\n",
    "\n",
    "# Iterate over each row in df1\n",
    "for index, row in df1.iterrows():\n",
    "    # Handle FC hashes\n",
    "    fc_matches = df2['hash'] == row['fc_hash']\n",
    "    df2.loc[fc_matches, 'commit_type'] = 'FC'\n",
    "    df2.loc[fc_matches, 'cwe_id'] = row['cwe_id']\n",
    "    df2.loc[fc_matches, 'repo_url'] = row['repo_url']\n",
    "\n",
    "    # Handle VCC hashes\n",
    "    vcc_hashes = row['vcc_hash']\n",
    "    for vcc_hash in vcc_hashes:\n",
    "        if pd.notna(vcc_hash):\n",
    "            vcc_matches = df2['hash'] == vcc_hash\n",
    "            df2.loc[vcc_matches, 'commit_type'] = 'VCC'\n",
    "            df2.loc[vcc_matches, 'cwe_id'] = row['cwe_id']\n",
    "            df2.loc[vcc_matches, 'repo_url'] = row['repo_url']\n",
    "\n",
    "# Display the updated df2\n",
    "df2"
   ]
  },
  {
   "cell_type": "code",
   "outputs": [
    {
     "data": {
      "text/plain": "                                           hash  \\\n140    6c4841c2b6c32a134f9f36e5e08857138cc12b10   \n142    f0ec1aaf54caddd21c259aea8b2ecfbde4ee4fb9   \n158    2a2f11c227bdf292b3a2900ad04139d301b56ac4   \n178    ea2bc483ff5caada7c4aa0d5fbf87d3a6590273d   \n192    d0772b70faaf8e9f2013b6c4273d94d5eac8047a   \n...                                         ...   \n13008  7dfa400ded53919d986c5d3d23446a09e0cf481b   \n13012  e4bb58cc8b6202a421e65f8230217d8ae6e16eb5   \n13018  97760104c0fd311206b88aecd91fa1f59fe2b85a   \n13020  55dd08c210722aed81b38132f5fd4a04ec1943b5   \n13023  fa6a76050d82894365dfe32916903ef7fee3ffcd   \n\n                                                     msg  \\\n140    [POWERPC] Never panic when taking altivec exce...   \n142    [PATCH] xacct_add_tsk: fix pure theoretical ->...   \n158    NetLabel: correct CIPSO tag handling when addi...   \n178    [SCTP]: Fix assertion (!atomic_read(&sk->sk_rm...   \n192    [IPV6]: Fix slab corruption running ip6sic\\n\\n...   \n...                                                  ...   \n13008       Fix handling of APNG with 0 delay_den (#313)   \n13012                        fix filling out of initresp   \n13018               Perform argument check for putString   \n13020             Fix struct initialization in formatter   \n13023  inspection: Fix double-free when certain guest...   \n\n                            author                author_date  \\\n140                anton@samba.org  2006-10-13 11:41:00+10:00   \n142                oleg@tv-sign.ru  2006-10-29 22:46:43-08:00   \n158              paul.moore@hp.com  2007-01-05 15:08:22-05:00   \n178          t-fujii@nb.jp.nec.com  2007-04-17 12:49:53-07:00   \n192               snakebyte@gmx.de  2007-04-28 21:26:23-07:00   \n...                            ...                        ...   \n13008  kallikrates.koios@gmail.com  2021-07-15 06:34:08-04:00   \n13012              klas@yubico.com  2019-02-22 10:59:01+01:00   \n13018            kriszyp@gmail.com  2022-03-12 07:19:20-07:00   \n13020        athre0z@zyantific.com  2021-10-24 14:36:42+02:00   \n13023            rjones@redhat.com  2013-05-28 16:15:59+01:00   \n\n       author_timezone                   committer             committer_date  \\\n140             -36000            paulus@samba.org  2006-10-16 15:53:30+10:00   \n142              28800        torvalds@g5.osdl.org  2006-10-30 12:08:41-08:00   \n158              18000  davem@sunset.davemloft.net  2007-01-09 00:30:01-08:00   \n178              25200  davem@sunset.davemloft.net  2007-04-17 13:13:37-07:00   \n192              25200         davem@davemloft.net  2007-04-28 21:26:23-07:00   \n...                ...                         ...                        ...   \n13008            14400          noreply@github.com  2021-07-15 12:34:08+02:00   \n13012            -3600             klas@yubico.com  2019-02-22 12:32:10+01:00   \n13018            25200           kriszyp@gmail.com  2022-03-12 07:24:20-07:00   \n13020            -7200       athre0z@zyantific.com  2021-10-28 14:57:00+02:00   \n13023            -3600           rjones@redhat.com  2013-05-28 16:20:09+01:00   \n\n       committer_timezone  in_main_branch  merge  ... num_lines_deleted  \\\n140                -36000            True  False  ...                 2   \n142                 28800            True  False  ...                 3   \n158                 28800            True  False  ...                 3   \n178                 25200            True  False  ...                 4   \n192                 25200            True  False  ...                 1   \n...                   ...             ...    ...  ...               ...   \n13008               -7200            True  False  ...                 0   \n13012               -3600            True  False  ...                 9   \n13018               25200            True  False  ...                 0   \n13020               -7200            True  False  ...                16   \n13023               -3600            True  False  ...                 1   \n\n       num_lines_added  num_lines_changed  num_files_changed  dmm_unit_size  \\\n140                  1                  3                  1            NaN   \n142                  7                 10                  1       0.000000   \n158                  3                  6                  1            NaN   \n178                 44                 48                  1       0.714286   \n192                  1                  2                  1            NaN   \n...                ...                ...                ...            ...   \n13008                3                  3                  2       0.000000   \n13012               21                 30                  1       0.000000   \n13018                2                  2                  1       1.000000   \n13020               25                 41                  2       0.000000   \n13023                3                  4                  1       0.000000   \n\n       dmm_unit_complexity  dmm_unit_interfacing  commit_type          cwe_id  \\\n140                    NaN                   NaN           FC          CWE-19   \n142               1.000000              1.000000           FC         CWE-399   \n158                    NaN                   NaN           FC         CWE-119   \n178               0.714286              0.714286           FC         CWE-476   \n192                    NaN                   NaN           FC         CWE-399   \n...                    ...                   ...          ...             ...   \n13008             0.000000              0.000000           FC         CWE-369   \n13012             1.000000              1.000000           FC         CWE-908   \n13018             1.000000              1.000000           FC  NVD-CWE-noinfo   \n13020             1.000000              0.000000           FC         CWE-908   \n13023             1.000000              1.000000           FC   NVD-CWE-Other   \n\n                                       repo_url  \n140           https://github.com/torvalds/linux  \n142           https://github.com/torvalds/linux  \n158           https://github.com/torvalds/linux  \n178           https://github.com/torvalds/linux  \n192           https://github.com/torvalds/linux  \n...                                         ...  \n13008          https://github.com/libjxl/libjxl  \n13012     https://github.com/Yubico/libu2f-host  \n13018       https://github.com/Venemo/node-lmdb  \n13020        https://github.com/zyantific/zydis  \n13023  https://github.com/libguestfs/libguestfs  \n\n[4327 rows x 21 columns]",
      "text/html": "<div>\n<style scoped>\n    .dataframe tbody tr th:only-of-type {\n        vertical-align: middle;\n    }\n\n    .dataframe tbody tr th {\n        vertical-align: top;\n    }\n\n    .dataframe thead th {\n        text-align: right;\n    }\n</style>\n<table border=\"1\" class=\"dataframe\">\n  <thead>\n    <tr style=\"text-align: right;\">\n      <th></th>\n      <th>hash</th>\n      <th>msg</th>\n      <th>author</th>\n      <th>author_date</th>\n      <th>author_timezone</th>\n      <th>committer</th>\n      <th>committer_date</th>\n      <th>committer_timezone</th>\n      <th>in_main_branch</th>\n      <th>merge</th>\n      <th>...</th>\n      <th>num_lines_deleted</th>\n      <th>num_lines_added</th>\n      <th>num_lines_changed</th>\n      <th>num_files_changed</th>\n      <th>dmm_unit_size</th>\n      <th>dmm_unit_complexity</th>\n      <th>dmm_unit_interfacing</th>\n      <th>commit_type</th>\n      <th>cwe_id</th>\n      <th>repo_url</th>\n    </tr>\n  </thead>\n  <tbody>\n    <tr>\n      <th>140</th>\n      <td>6c4841c2b6c32a134f9f36e5e08857138cc12b10</td>\n      <td>[POWERPC] Never panic when taking altivec exce...</td>\n      <td>anton@samba.org</td>\n      <td>2006-10-13 11:41:00+10:00</td>\n      <td>-36000</td>\n      <td>paulus@samba.org</td>\n      <td>2006-10-16 15:53:30+10:00</td>\n      <td>-36000</td>\n      <td>True</td>\n      <td>False</td>\n      <td>...</td>\n      <td>2</td>\n      <td>1</td>\n      <td>3</td>\n      <td>1</td>\n      <td>NaN</td>\n      <td>NaN</td>\n      <td>NaN</td>\n      <td>FC</td>\n      <td>CWE-19</td>\n      <td>https://github.com/torvalds/linux</td>\n    </tr>\n    <tr>\n      <th>142</th>\n      <td>f0ec1aaf54caddd21c259aea8b2ecfbde4ee4fb9</td>\n      <td>[PATCH] xacct_add_tsk: fix pure theoretical -&gt;...</td>\n      <td>oleg@tv-sign.ru</td>\n      <td>2006-10-29 22:46:43-08:00</td>\n      <td>28800</td>\n      <td>torvalds@g5.osdl.org</td>\n      <td>2006-10-30 12:08:41-08:00</td>\n      <td>28800</td>\n      <td>True</td>\n      <td>False</td>\n      <td>...</td>\n      <td>3</td>\n      <td>7</td>\n      <td>10</td>\n      <td>1</td>\n      <td>0.000000</td>\n      <td>1.000000</td>\n      <td>1.000000</td>\n      <td>FC</td>\n      <td>CWE-399</td>\n      <td>https://github.com/torvalds/linux</td>\n    </tr>\n    <tr>\n      <th>158</th>\n      <td>2a2f11c227bdf292b3a2900ad04139d301b56ac4</td>\n      <td>NetLabel: correct CIPSO tag handling when addi...</td>\n      <td>paul.moore@hp.com</td>\n      <td>2007-01-05 15:08:22-05:00</td>\n      <td>18000</td>\n      <td>davem@sunset.davemloft.net</td>\n      <td>2007-01-09 00:30:01-08:00</td>\n      <td>28800</td>\n      <td>True</td>\n      <td>False</td>\n      <td>...</td>\n      <td>3</td>\n      <td>3</td>\n      <td>6</td>\n      <td>1</td>\n      <td>NaN</td>\n      <td>NaN</td>\n      <td>NaN</td>\n      <td>FC</td>\n      <td>CWE-119</td>\n      <td>https://github.com/torvalds/linux</td>\n    </tr>\n    <tr>\n      <th>178</th>\n      <td>ea2bc483ff5caada7c4aa0d5fbf87d3a6590273d</td>\n      <td>[SCTP]: Fix assertion (!atomic_read(&amp;sk-&gt;sk_rm...</td>\n      <td>t-fujii@nb.jp.nec.com</td>\n      <td>2007-04-17 12:49:53-07:00</td>\n      <td>25200</td>\n      <td>davem@sunset.davemloft.net</td>\n      <td>2007-04-17 13:13:37-07:00</td>\n      <td>25200</td>\n      <td>True</td>\n      <td>False</td>\n      <td>...</td>\n      <td>4</td>\n      <td>44</td>\n      <td>48</td>\n      <td>1</td>\n      <td>0.714286</td>\n      <td>0.714286</td>\n      <td>0.714286</td>\n      <td>FC</td>\n      <td>CWE-476</td>\n      <td>https://github.com/torvalds/linux</td>\n    </tr>\n    <tr>\n      <th>192</th>\n      <td>d0772b70faaf8e9f2013b6c4273d94d5eac8047a</td>\n      <td>[IPV6]: Fix slab corruption running ip6sic\\n\\n...</td>\n      <td>snakebyte@gmx.de</td>\n      <td>2007-04-28 21:26:23-07:00</td>\n      <td>25200</td>\n      <td>davem@davemloft.net</td>\n      <td>2007-04-28 21:26:23-07:00</td>\n      <td>25200</td>\n      <td>True</td>\n      <td>False</td>\n      <td>...</td>\n      <td>1</td>\n      <td>1</td>\n      <td>2</td>\n      <td>1</td>\n      <td>NaN</td>\n      <td>NaN</td>\n      <td>NaN</td>\n      <td>FC</td>\n      <td>CWE-399</td>\n      <td>https://github.com/torvalds/linux</td>\n    </tr>\n    <tr>\n      <th>...</th>\n      <td>...</td>\n      <td>...</td>\n      <td>...</td>\n      <td>...</td>\n      <td>...</td>\n      <td>...</td>\n      <td>...</td>\n      <td>...</td>\n      <td>...</td>\n      <td>...</td>\n      <td>...</td>\n      <td>...</td>\n      <td>...</td>\n      <td>...</td>\n      <td>...</td>\n      <td>...</td>\n      <td>...</td>\n      <td>...</td>\n      <td>...</td>\n      <td>...</td>\n      <td>...</td>\n    </tr>\n    <tr>\n      <th>13008</th>\n      <td>7dfa400ded53919d986c5d3d23446a09e0cf481b</td>\n      <td>Fix handling of APNG with 0 delay_den (#313)</td>\n      <td>kallikrates.koios@gmail.com</td>\n      <td>2021-07-15 06:34:08-04:00</td>\n      <td>14400</td>\n      <td>noreply@github.com</td>\n      <td>2021-07-15 12:34:08+02:00</td>\n      <td>-7200</td>\n      <td>True</td>\n      <td>False</td>\n      <td>...</td>\n      <td>0</td>\n      <td>3</td>\n      <td>3</td>\n      <td>2</td>\n      <td>0.000000</td>\n      <td>0.000000</td>\n      <td>0.000000</td>\n      <td>FC</td>\n      <td>CWE-369</td>\n      <td>https://github.com/libjxl/libjxl</td>\n    </tr>\n    <tr>\n      <th>13012</th>\n      <td>e4bb58cc8b6202a421e65f8230217d8ae6e16eb5</td>\n      <td>fix filling out of initresp</td>\n      <td>klas@yubico.com</td>\n      <td>2019-02-22 10:59:01+01:00</td>\n      <td>-3600</td>\n      <td>klas@yubico.com</td>\n      <td>2019-02-22 12:32:10+01:00</td>\n      <td>-3600</td>\n      <td>True</td>\n      <td>False</td>\n      <td>...</td>\n      <td>9</td>\n      <td>21</td>\n      <td>30</td>\n      <td>1</td>\n      <td>0.000000</td>\n      <td>1.000000</td>\n      <td>1.000000</td>\n      <td>FC</td>\n      <td>CWE-908</td>\n      <td>https://github.com/Yubico/libu2f-host</td>\n    </tr>\n    <tr>\n      <th>13018</th>\n      <td>97760104c0fd311206b88aecd91fa1f59fe2b85a</td>\n      <td>Perform argument check for putString</td>\n      <td>kriszyp@gmail.com</td>\n      <td>2022-03-12 07:19:20-07:00</td>\n      <td>25200</td>\n      <td>kriszyp@gmail.com</td>\n      <td>2022-03-12 07:24:20-07:00</td>\n      <td>25200</td>\n      <td>True</td>\n      <td>False</td>\n      <td>...</td>\n      <td>0</td>\n      <td>2</td>\n      <td>2</td>\n      <td>1</td>\n      <td>1.000000</td>\n      <td>1.000000</td>\n      <td>1.000000</td>\n      <td>FC</td>\n      <td>NVD-CWE-noinfo</td>\n      <td>https://github.com/Venemo/node-lmdb</td>\n    </tr>\n    <tr>\n      <th>13020</th>\n      <td>55dd08c210722aed81b38132f5fd4a04ec1943b5</td>\n      <td>Fix struct initialization in formatter</td>\n      <td>athre0z@zyantific.com</td>\n      <td>2021-10-24 14:36:42+02:00</td>\n      <td>-7200</td>\n      <td>athre0z@zyantific.com</td>\n      <td>2021-10-28 14:57:00+02:00</td>\n      <td>-7200</td>\n      <td>True</td>\n      <td>False</td>\n      <td>...</td>\n      <td>16</td>\n      <td>25</td>\n      <td>41</td>\n      <td>2</td>\n      <td>0.000000</td>\n      <td>1.000000</td>\n      <td>0.000000</td>\n      <td>FC</td>\n      <td>CWE-908</td>\n      <td>https://github.com/zyantific/zydis</td>\n    </tr>\n    <tr>\n      <th>13023</th>\n      <td>fa6a76050d82894365dfe32916903ef7fee3ffcd</td>\n      <td>inspection: Fix double-free when certain guest...</td>\n      <td>rjones@redhat.com</td>\n      <td>2013-05-28 16:15:59+01:00</td>\n      <td>-3600</td>\n      <td>rjones@redhat.com</td>\n      <td>2013-05-28 16:20:09+01:00</td>\n      <td>-3600</td>\n      <td>True</td>\n      <td>False</td>\n      <td>...</td>\n      <td>1</td>\n      <td>3</td>\n      <td>4</td>\n      <td>1</td>\n      <td>0.000000</td>\n      <td>1.000000</td>\n      <td>1.000000</td>\n      <td>FC</td>\n      <td>NVD-CWE-Other</td>\n      <td>https://github.com/libguestfs/libguestfs</td>\n    </tr>\n  </tbody>\n</table>\n<p>4327 rows × 21 columns</p>\n</div>"
     },
     "execution_count": 2,
     "metadata": {},
     "output_type": "execute_result"
    }
   ],
   "source": [
    "df2 = df2[df2['commit_type'] == 'FC']\n",
    "df2"
   ],
   "metadata": {
    "collapsed": false,
    "ExecuteTime": {
     "end_time": "2024-11-27T12:25:58.313613Z",
     "start_time": "2024-11-27T12:25:58.277381Z"
    }
   },
   "id": "98538d374c29db28",
   "execution_count": 2
  },
  {
   "cell_type": "code",
   "outputs": [
    {
     "data": {
      "text/plain": "cwe_id\nCWE-125     529\nCWE-787     339\nCWE-476     328\nCWE-119     316\nCWE-416     205\n           ... \nCWE-1333      1\nCWE-241       1\nCWE-693       1\nCWE-707       1\nCWE-90        1\nName: count, Length: 146, dtype: int64"
     },
     "execution_count": 3,
     "metadata": {},
     "output_type": "execute_result"
    }
   ],
   "source": [
    "vul_count = df2['cwe_id'].value_counts()\n",
    "vul_count"
   ],
   "metadata": {
    "collapsed": false,
    "ExecuteTime": {
     "end_time": "2024-11-27T12:26:44.293651Z",
     "start_time": "2024-11-27T12:26:44.281645Z"
    }
   },
   "id": "ca0da6dd492b4134",
   "execution_count": 3
  },
  {
   "cell_type": "code",
   "outputs": [
    {
     "data": {
      "text/plain": "before_change\nFalse    9120\nTrue     6276\nName: count, dtype: int64"
     },
     "execution_count": 4,
     "metadata": {},
     "output_type": "execute_result"
    }
   ],
   "source": [
    "df3 = pd.read_csv('..//data/processed/function_info.csv')\n",
    "\n",
    "vul_count = df3['before_change'].value_counts()\n",
    "vul_count"
   ],
   "metadata": {
    "collapsed": false,
    "ExecuteTime": {
     "end_time": "2024-11-27T12:32:59.320917Z",
     "start_time": "2024-11-27T12:32:58.825826Z"
    }
   },
   "id": "1219d852fe95a4a8",
   "execution_count": 4
  },
  {
   "cell_type": "code",
   "outputs": [],
   "source": [
    "vul_count1 = df3['cwe_id'].value_counts()\n",
    "vul_count1"
   ],
   "metadata": {
    "collapsed": false
   },
   "id": "a16aa8071906422b"
  }
 ],
 "metadata": {
  "kernelspec": {
   "display_name": "Python 3",
   "language": "python",
   "name": "python3"
  },
  "language_info": {
   "codemirror_mode": {
    "name": "ipython",
    "version": 2
   },
   "file_extension": ".py",
   "mimetype": "text/x-python",
   "name": "python",
   "nbconvert_exporter": "python",
   "pygments_lexer": "ipython2",
   "version": "2.7.6"
  }
 },
 "nbformat": 4,
 "nbformat_minor": 5
}
