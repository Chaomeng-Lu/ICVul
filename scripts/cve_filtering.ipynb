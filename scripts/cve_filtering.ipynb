{
 "cells": [
  {
   "cell_type": "code",
   "execution_count": 1,
   "id": "initial_id",
   "metadata": {
    "collapsed": true,
    "ExecuteTime": {
     "end_time": "2024-11-19T15:39:22.625080Z",
     "start_time": "2024-11-19T15:39:20.904664Z"
    }
   },
   "outputs": [],
   "source": [
    "import pandas as pd\n",
    "from urllib.parse import urlparse"
   ]
  },
  {
   "cell_type": "code",
   "outputs": [
    {
     "data": {
      "text/plain": "(269509, 26)"
     },
     "execution_count": 2,
     "metadata": {},
     "output_type": "execute_result"
    }
   ],
   "source": [
    "df = pd.read_csv('..//data/raw/restructured_all_cves.csv')\n",
    "df.shape"
   ],
   "metadata": {
    "collapsed": false,
    "ExecuteTime": {
     "end_time": "2024-11-19T15:39:25.895560Z",
     "start_time": "2024-11-19T15:39:23.934723Z"
    }
   },
   "id": "3fe959be091edf13",
   "execution_count": 2
  },
  {
   "cell_type": "code",
   "outputs": [
    {
     "data": {
      "text/plain": "(255043, 26)"
     },
     "execution_count": 3,
     "metadata": {},
     "output_type": "execute_result"
    }
   ],
   "source": [
    "# Delete rows where 'Reference URLs' contains null values\n",
    "df = df.dropna(subset=['Reference URLs'])\n",
    "df.shape"
   ],
   "metadata": {
    "collapsed": false,
    "ExecuteTime": {
     "end_time": "2024-11-19T15:39:35.869732Z",
     "start_time": "2024-11-19T15:39:35.740754Z"
    }
   },
   "id": "bf94d1ee782e5449",
   "execution_count": 3
  },
  {
   "cell_type": "code",
   "outputs": [
    {
     "data": {
      "text/plain": "(248505, 26)"
     },
     "execution_count": 4,
     "metadata": {},
     "output_type": "execute_result"
    }
   ],
   "source": [
    "# Delete rows where 'CWE ID' contains null values\n",
    "df = df.dropna(subset=['CWE ID'])\n",
    "df.shape"
   ],
   "metadata": {
    "collapsed": false,
    "ExecuteTime": {
     "end_time": "2024-11-19T15:39:36.684738Z",
     "start_time": "2024-11-19T15:39:36.604627Z"
    }
   },
   "id": "1309c49682f2afd6",
   "execution_count": 4
  },
  {
   "cell_type": "code",
   "outputs": [],
   "source": [
    "df = df[['CVE ID', 'Description', 'CWE ID', 'Reference URLs', 'Patch URL']]\n",
    "# URL_df = df['Reference URLs']\n",
    "# URL_df.to_csv('..//data/raw/all_url_list.csv')"
   ],
   "metadata": {
    "collapsed": false,
    "ExecuteTime": {
     "end_time": "2024-11-19T15:39:43.790026Z",
     "start_time": "2024-11-19T15:39:43.735655Z"
    }
   },
   "id": "f981f8726717de0",
   "execution_count": 5
  },
  {
   "cell_type": "code",
   "outputs": [
    {
     "data": {
      "text/plain": "                CVE ID                                        Description  \\\n1092     CVE-1999-0731  The KDE klock program allows local users to un...   \n19505    CVE-2006-4192  Multiple buffer overflows in MODPlug Tracker (...   \n25365    CVE-2007-3126  Gimp before 2.8.22 allows context-dependent at...   \n30651    CVE-2008-1897  The IAX2 channel driver (chan_iax2) in Asteris...   \n33801    CVE-2008-5189  CRLF injection vulnerability in Ruby on Rails ...   \n...                ...                                                ...   \n269495  CVE-2024-11175  A vulnerability was found in Public CMS 5.2024...   \n269500  CVE-2024-52293  Craft is a content management system (CMS). Pr...   \n269501  CVE-2024-52295  DataEase is an open source data visualization ...   \n269505  CVE-2024-52305  UnoPim is an open-source Product Information M...   \n269506  CVE-2024-52306  FileManager provides a Backpack admin interfac...   \n\n                CWE ID                                     Reference URLs  \\\n1092     NVD-CWE-Other  http://www.securityfocus.com/bid/489;https://g...   \n19505    NVD-CWE-Other  http://aluigi.altervista.org/adv/mptho-adv.txt...   \n25365   NVD-CWE-noinfo  http://osvdb.org/43453;http://www.securityfocu...   \n30651          CWE-287  http://bugs.digium.com/view.php?id=10078;http:...   \n33801          CWE-352  http://github.com/rails/rails/commit/7282ed863...   \n...                ...                                                ...   \n269495          CWE-79  https://gitee.com/sanluan/PublicCMS/commit/b95...   \n269500          CWE-22  https://github.com/craftcms/cms/commit/123e48a...   \n269501         CWE-798  https://github.com/dataease/dataease/commit/e7...   \n269505         CWE-616  https://github.com/unopim/unopim/commit/9a0da7...   \n269506         CWE-502  https://github.com/Laravel-Backpack/FileManage...   \n\n                                                Patch URL  \n1092                                                  NaN  \n19505                                                 NaN  \n25365   https://git.gnome.org/browse/gimp/commit/?id=3...  \n30651                                                 NaN  \n33801              http://www.securityfocus.com/bid/32359  \n...                                                   ...  \n269495                                                NaN  \n269500                                                NaN  \n269501                                                NaN  \n269505                                                NaN  \n269506                                                NaN  \n\n[15735 rows x 5 columns]",
      "text/html": "<div>\n<style scoped>\n    .dataframe tbody tr th:only-of-type {\n        vertical-align: middle;\n    }\n\n    .dataframe tbody tr th {\n        vertical-align: top;\n    }\n\n    .dataframe thead th {\n        text-align: right;\n    }\n</style>\n<table border=\"1\" class=\"dataframe\">\n  <thead>\n    <tr style=\"text-align: right;\">\n      <th></th>\n      <th>CVE ID</th>\n      <th>Description</th>\n      <th>CWE ID</th>\n      <th>Reference URLs</th>\n      <th>Patch URL</th>\n    </tr>\n  </thead>\n  <tbody>\n    <tr>\n      <th>1092</th>\n      <td>CVE-1999-0731</td>\n      <td>The KDE klock program allows local users to un...</td>\n      <td>NVD-CWE-Other</td>\n      <td>http://www.securityfocus.com/bid/489;https://g...</td>\n      <td>NaN</td>\n    </tr>\n    <tr>\n      <th>19505</th>\n      <td>CVE-2006-4192</td>\n      <td>Multiple buffer overflows in MODPlug Tracker (...</td>\n      <td>NVD-CWE-Other</td>\n      <td>http://aluigi.altervista.org/adv/mptho-adv.txt...</td>\n      <td>NaN</td>\n    </tr>\n    <tr>\n      <th>25365</th>\n      <td>CVE-2007-3126</td>\n      <td>Gimp before 2.8.22 allows context-dependent at...</td>\n      <td>NVD-CWE-noinfo</td>\n      <td>http://osvdb.org/43453;http://www.securityfocu...</td>\n      <td>https://git.gnome.org/browse/gimp/commit/?id=3...</td>\n    </tr>\n    <tr>\n      <th>30651</th>\n      <td>CVE-2008-1897</td>\n      <td>The IAX2 channel driver (chan_iax2) in Asteris...</td>\n      <td>CWE-287</td>\n      <td>http://bugs.digium.com/view.php?id=10078;http:...</td>\n      <td>NaN</td>\n    </tr>\n    <tr>\n      <th>33801</th>\n      <td>CVE-2008-5189</td>\n      <td>CRLF injection vulnerability in Ruby on Rails ...</td>\n      <td>CWE-352</td>\n      <td>http://github.com/rails/rails/commit/7282ed863...</td>\n      <td>http://www.securityfocus.com/bid/32359</td>\n    </tr>\n    <tr>\n      <th>...</th>\n      <td>...</td>\n      <td>...</td>\n      <td>...</td>\n      <td>...</td>\n      <td>...</td>\n    </tr>\n    <tr>\n      <th>269495</th>\n      <td>CVE-2024-11175</td>\n      <td>A vulnerability was found in Public CMS 5.2024...</td>\n      <td>CWE-79</td>\n      <td>https://gitee.com/sanluan/PublicCMS/commit/b95...</td>\n      <td>NaN</td>\n    </tr>\n    <tr>\n      <th>269500</th>\n      <td>CVE-2024-52293</td>\n      <td>Craft is a content management system (CMS). Pr...</td>\n      <td>CWE-22</td>\n      <td>https://github.com/craftcms/cms/commit/123e48a...</td>\n      <td>NaN</td>\n    </tr>\n    <tr>\n      <th>269501</th>\n      <td>CVE-2024-52295</td>\n      <td>DataEase is an open source data visualization ...</td>\n      <td>CWE-798</td>\n      <td>https://github.com/dataease/dataease/commit/e7...</td>\n      <td>NaN</td>\n    </tr>\n    <tr>\n      <th>269505</th>\n      <td>CVE-2024-52305</td>\n      <td>UnoPim is an open-source Product Information M...</td>\n      <td>CWE-616</td>\n      <td>https://github.com/unopim/unopim/commit/9a0da7...</td>\n      <td>NaN</td>\n    </tr>\n    <tr>\n      <th>269506</th>\n      <td>CVE-2024-52306</td>\n      <td>FileManager provides a Backpack admin interfac...</td>\n      <td>CWE-502</td>\n      <td>https://github.com/Laravel-Backpack/FileManage...</td>\n      <td>NaN</td>\n    </tr>\n  </tbody>\n</table>\n<p>15735 rows × 5 columns</p>\n</div>"
     },
     "execution_count": 6,
     "metadata": {},
     "output_type": "execute_result"
    }
   ],
   "source": [
    "# List of keywords\n",
    "keywords = ['/commit/']\n",
    "# Filter rows where 'Reference URLs' contains any of the keywords\n",
    "df = df[df['Reference URLs'].str.contains('|'.join(keywords), case=False)]\n",
    "df"
   ],
   "metadata": {
    "collapsed": false,
    "ExecuteTime": {
     "end_time": "2024-11-19T15:39:45.861095Z",
     "start_time": "2024-11-19T15:39:45.624695Z"
    }
   },
   "id": "71cc27aec3bdf218",
   "execution_count": 6
  },
  {
   "cell_type": "code",
   "outputs": [
    {
     "data": {
      "text/plain": "                CVE ID                                        Description  \\\n1092     CVE-1999-0731  The KDE klock program allows local users to un...   \n19505    CVE-2006-4192  Multiple buffer overflows in MODPlug Tracker (...   \n25365    CVE-2007-3126  Gimp before 2.8.22 allows context-dependent at...   \n30651    CVE-2008-1897  The IAX2 channel driver (chan_iax2) in Asteris...   \n33801    CVE-2008-5189  CRLF injection vulnerability in Ruby on Rails ...   \n...                ...                                                ...   \n269495  CVE-2024-11175  A vulnerability was found in Public CMS 5.2024...   \n269500  CVE-2024-52293  Craft is a content management system (CMS). Pr...   \n269501  CVE-2024-52295  DataEase is an open source data visualization ...   \n269505  CVE-2024-52305  UnoPim is an open-source Product Information M...   \n269506  CVE-2024-52306  FileManager provides a Backpack admin interfac...   \n\n                CWE ID                                     Reference URLs  \\\n1092     NVD-CWE-Other  https://github.com/KDE/kde1-kdebase/commit/049...   \n19505    NVD-CWE-Other                                               None   \n25365   NVD-CWE-noinfo                                               None   \n30651          CWE-287  https://github.com/jcollie/asterisk/commit/60d...   \n33801          CWE-352  http://github.com/rails/rails/commit/7282ed863...   \n...                ...                                                ...   \n269495          CWE-79                                               None   \n269500          CWE-22  https://github.com/craftcms/cms/commit/123e48a...   \n269501         CWE-798  https://github.com/dataease/dataease/commit/e7...   \n269505         CWE-616  https://github.com/unopim/unopim/commit/9a0da7...   \n269506         CWE-502  https://github.com/Laravel-Backpack/FileManage...   \n\n                                                Patch URL  \n1092                                                  NaN  \n19505                                                 NaN  \n25365   https://git.gnome.org/browse/gimp/commit/?id=3...  \n30651                                                 NaN  \n33801              http://www.securityfocus.com/bid/32359  \n...                                                   ...  \n269495                                                NaN  \n269500                                                NaN  \n269501                                                NaN  \n269505                                                NaN  \n269506                                                NaN  \n\n[15735 rows x 5 columns]",
      "text/html": "<div>\n<style scoped>\n    .dataframe tbody tr th:only-of-type {\n        vertical-align: middle;\n    }\n\n    .dataframe tbody tr th {\n        vertical-align: top;\n    }\n\n    .dataframe thead th {\n        text-align: right;\n    }\n</style>\n<table border=\"1\" class=\"dataframe\">\n  <thead>\n    <tr style=\"text-align: right;\">\n      <th></th>\n      <th>CVE ID</th>\n      <th>Description</th>\n      <th>CWE ID</th>\n      <th>Reference URLs</th>\n      <th>Patch URL</th>\n    </tr>\n  </thead>\n  <tbody>\n    <tr>\n      <th>1092</th>\n      <td>CVE-1999-0731</td>\n      <td>The KDE klock program allows local users to un...</td>\n      <td>NVD-CWE-Other</td>\n      <td>https://github.com/KDE/kde1-kdebase/commit/049...</td>\n      <td>NaN</td>\n    </tr>\n    <tr>\n      <th>19505</th>\n      <td>CVE-2006-4192</td>\n      <td>Multiple buffer overflows in MODPlug Tracker (...</td>\n      <td>NVD-CWE-Other</td>\n      <td>None</td>\n      <td>NaN</td>\n    </tr>\n    <tr>\n      <th>25365</th>\n      <td>CVE-2007-3126</td>\n      <td>Gimp before 2.8.22 allows context-dependent at...</td>\n      <td>NVD-CWE-noinfo</td>\n      <td>None</td>\n      <td>https://git.gnome.org/browse/gimp/commit/?id=3...</td>\n    </tr>\n    <tr>\n      <th>30651</th>\n      <td>CVE-2008-1897</td>\n      <td>The IAX2 channel driver (chan_iax2) in Asteris...</td>\n      <td>CWE-287</td>\n      <td>https://github.com/jcollie/asterisk/commit/60d...</td>\n      <td>NaN</td>\n    </tr>\n    <tr>\n      <th>33801</th>\n      <td>CVE-2008-5189</td>\n      <td>CRLF injection vulnerability in Ruby on Rails ...</td>\n      <td>CWE-352</td>\n      <td>http://github.com/rails/rails/commit/7282ed863...</td>\n      <td>http://www.securityfocus.com/bid/32359</td>\n    </tr>\n    <tr>\n      <th>...</th>\n      <td>...</td>\n      <td>...</td>\n      <td>...</td>\n      <td>...</td>\n      <td>...</td>\n    </tr>\n    <tr>\n      <th>269495</th>\n      <td>CVE-2024-11175</td>\n      <td>A vulnerability was found in Public CMS 5.2024...</td>\n      <td>CWE-79</td>\n      <td>None</td>\n      <td>NaN</td>\n    </tr>\n    <tr>\n      <th>269500</th>\n      <td>CVE-2024-52293</td>\n      <td>Craft is a content management system (CMS). Pr...</td>\n      <td>CWE-22</td>\n      <td>https://github.com/craftcms/cms/commit/123e48a...</td>\n      <td>NaN</td>\n    </tr>\n    <tr>\n      <th>269501</th>\n      <td>CVE-2024-52295</td>\n      <td>DataEase is an open source data visualization ...</td>\n      <td>CWE-798</td>\n      <td>https://github.com/dataease/dataease/commit/e7...</td>\n      <td>NaN</td>\n    </tr>\n    <tr>\n      <th>269505</th>\n      <td>CVE-2024-52305</td>\n      <td>UnoPim is an open-source Product Information M...</td>\n      <td>CWE-616</td>\n      <td>https://github.com/unopim/unopim/commit/9a0da7...</td>\n      <td>NaN</td>\n    </tr>\n    <tr>\n      <th>269506</th>\n      <td>CVE-2024-52306</td>\n      <td>FileManager provides a Backpack admin interfac...</td>\n      <td>CWE-502</td>\n      <td>https://github.com/Laravel-Backpack/FileManage...</td>\n      <td>NaN</td>\n    </tr>\n  </tbody>\n</table>\n<p>15735 rows × 5 columns</p>\n</div>"
     },
     "execution_count": 7,
     "metadata": {},
     "output_type": "execute_result"
    }
   ],
   "source": [
    "keywords1 = ['/commit/']\n",
    "keywords2 = ['github']\n",
    "def filter_urls_any(urls):\n",
    "    # Split the URLs by '；'\n",
    "    urls_list = urls.split(';')\n",
    "    # Filter URLs that contain any of the keywords\n",
    "    filtered_urls = [url for url in urls_list if any(keyword in url for keyword in keywords1)]\n",
    "    \n",
    "    # Join the filtered URLs back into a single string\n",
    "    return ';'.join(filtered_urls)\n",
    "\n",
    "def filter_urls_all(urls):\n",
    "    # Split the URLs by '；'\n",
    "    urls_list = urls.split(';')\n",
    "    # Filter URLs that contain any of the keywords\n",
    "    filtered_urls = [url for url in urls_list if all(keyword in url for keyword in keywords2)]\n",
    "    \n",
    "    if filtered_urls:\n",
    "        # Join the filtered URLs back into a single string\n",
    "        return ';'.join(filtered_urls)\n",
    "    else:\n",
    "        return None\n",
    "\n",
    "# Apply the filter_urls function to each row in the 'Reference URLs' column\n",
    "df['Reference URLs'] = df['Reference URLs'].apply(filter_urls_any)\n",
    "df['Reference URLs'] = df['Reference URLs'].apply(lambda x: filter_urls_all(x) if pd.notna(x) and x != '' else x)\n",
    "\n",
    "# df = df.dropna(subset=['Reference URLs'])\n",
    "# df.to_csv('..//data/raw/filtered_cves.csv')\n",
    "df"
   ],
   "metadata": {
    "collapsed": false,
    "ExecuteTime": {
     "end_time": "2024-11-19T15:40:35.195553Z",
     "start_time": "2024-11-19T15:40:35.129085Z"
    }
   },
   "id": "d60df76c38ea4c23",
   "execution_count": 7
  },
  {
   "cell_type": "code",
   "outputs": [
    {
     "data": {
      "text/plain": "                CVE ID                                        Description  \\\n1092     CVE-1999-0731  The KDE klock program allows local users to un...   \n30651    CVE-2008-1897  The IAX2 channel driver (chan_iax2) in Asteris...   \n33801    CVE-2008-5189  CRLF injection vulnerability in Ruby on Rails ...   \n34211    CVE-2008-5619  html2text.php in Chuggnutt HTML to Text Conver...   \n36834    CVE-2009-1194  Integer overflow in the pango_glyph_string_set...   \n...                ...                                                ...   \n269483  CVE-2024-11165  An information disclosure vulnerability exists...   \n269500  CVE-2024-52293  Craft is a content management system (CMS). Pr...   \n269501  CVE-2024-52295  DataEase is an open source data visualization ...   \n269505  CVE-2024-52305  UnoPim is an open-source Product Information M...   \n269506  CVE-2024-52306  FileManager provides a Backpack admin interfac...   \n\n               CWE ID                                     Reference URLs  \\\n1092    NVD-CWE-Other  https://github.com/KDE/kde1-kdebase/commit/049...   \n30651         CWE-287  https://github.com/jcollie/asterisk/commit/60d...   \n33801         CWE-352  http://github.com/rails/rails/commit/7282ed863...   \n34211          CWE-94  https://github.com/PHPMailer/PHPMailer/commit/...   \n36834         CWE-189  http://github.com/bratsche/pango/commit/4de30e...   \n...               ...                                                ...   \n269483        CWE-532  https://github.com/yugabyte/yugabyte-db/commit...   \n269500         CWE-22  https://github.com/craftcms/cms/commit/123e48a...   \n269501        CWE-798  https://github.com/dataease/dataease/commit/e7...   \n269505        CWE-616  https://github.com/unopim/unopim/commit/9a0da7...   \n269506        CWE-502  https://github.com/Laravel-Backpack/FileManage...   \n\n       Patch URL  \n1092         NaN  \n30651        NaN  \n33801       None  \n34211        NaN  \n36834       None  \n...          ...  \n269483       NaN  \n269500       NaN  \n269501       NaN  \n269505       NaN  \n269506       NaN  \n\n[13733 rows x 5 columns]",
      "text/html": "<div>\n<style scoped>\n    .dataframe tbody tr th:only-of-type {\n        vertical-align: middle;\n    }\n\n    .dataframe tbody tr th {\n        vertical-align: top;\n    }\n\n    .dataframe thead th {\n        text-align: right;\n    }\n</style>\n<table border=\"1\" class=\"dataframe\">\n  <thead>\n    <tr style=\"text-align: right;\">\n      <th></th>\n      <th>CVE ID</th>\n      <th>Description</th>\n      <th>CWE ID</th>\n      <th>Reference URLs</th>\n      <th>Patch URL</th>\n    </tr>\n  </thead>\n  <tbody>\n    <tr>\n      <th>1092</th>\n      <td>CVE-1999-0731</td>\n      <td>The KDE klock program allows local users to un...</td>\n      <td>NVD-CWE-Other</td>\n      <td>https://github.com/KDE/kde1-kdebase/commit/049...</td>\n      <td>NaN</td>\n    </tr>\n    <tr>\n      <th>30651</th>\n      <td>CVE-2008-1897</td>\n      <td>The IAX2 channel driver (chan_iax2) in Asteris...</td>\n      <td>CWE-287</td>\n      <td>https://github.com/jcollie/asterisk/commit/60d...</td>\n      <td>NaN</td>\n    </tr>\n    <tr>\n      <th>33801</th>\n      <td>CVE-2008-5189</td>\n      <td>CRLF injection vulnerability in Ruby on Rails ...</td>\n      <td>CWE-352</td>\n      <td>http://github.com/rails/rails/commit/7282ed863...</td>\n      <td>None</td>\n    </tr>\n    <tr>\n      <th>34211</th>\n      <td>CVE-2008-5619</td>\n      <td>html2text.php in Chuggnutt HTML to Text Conver...</td>\n      <td>CWE-94</td>\n      <td>https://github.com/PHPMailer/PHPMailer/commit/...</td>\n      <td>NaN</td>\n    </tr>\n    <tr>\n      <th>36834</th>\n      <td>CVE-2009-1194</td>\n      <td>Integer overflow in the pango_glyph_string_set...</td>\n      <td>CWE-189</td>\n      <td>http://github.com/bratsche/pango/commit/4de30e...</td>\n      <td>None</td>\n    </tr>\n    <tr>\n      <th>...</th>\n      <td>...</td>\n      <td>...</td>\n      <td>...</td>\n      <td>...</td>\n      <td>...</td>\n    </tr>\n    <tr>\n      <th>269483</th>\n      <td>CVE-2024-11165</td>\n      <td>An information disclosure vulnerability exists...</td>\n      <td>CWE-532</td>\n      <td>https://github.com/yugabyte/yugabyte-db/commit...</td>\n      <td>NaN</td>\n    </tr>\n    <tr>\n      <th>269500</th>\n      <td>CVE-2024-52293</td>\n      <td>Craft is a content management system (CMS). Pr...</td>\n      <td>CWE-22</td>\n      <td>https://github.com/craftcms/cms/commit/123e48a...</td>\n      <td>NaN</td>\n    </tr>\n    <tr>\n      <th>269501</th>\n      <td>CVE-2024-52295</td>\n      <td>DataEase is an open source data visualization ...</td>\n      <td>CWE-798</td>\n      <td>https://github.com/dataease/dataease/commit/e7...</td>\n      <td>NaN</td>\n    </tr>\n    <tr>\n      <th>269505</th>\n      <td>CVE-2024-52305</td>\n      <td>UnoPim is an open-source Product Information M...</td>\n      <td>CWE-616</td>\n      <td>https://github.com/unopim/unopim/commit/9a0da7...</td>\n      <td>NaN</td>\n    </tr>\n    <tr>\n      <th>269506</th>\n      <td>CVE-2024-52306</td>\n      <td>FileManager provides a Backpack admin interfac...</td>\n      <td>CWE-502</td>\n      <td>https://github.com/Laravel-Backpack/FileManage...</td>\n      <td>NaN</td>\n    </tr>\n  </tbody>\n</table>\n<p>13733 rows × 5 columns</p>\n</div>"
     },
     "execution_count": 8,
     "metadata": {},
     "output_type": "execute_result"
    }
   ],
   "source": [
    "df['Patch URL'] = df['Patch URL'].apply(lambda x: filter_urls_all(x) if pd.notna(x) and x != '' else x)\n",
    "# df = df[~((df['Patch URL'].isna()) & (df['Reference URLs'].isna()))]\n",
    "df = df.dropna(subset=['Reference URLs'])\n",
    "df.to_csv('..//data/raw/filtered_cves.csv', index=False)\n",
    "df.to_csv('..//data/processed/final_cves.csv', index=False)\n",
    "df"
   ],
   "metadata": {
    "collapsed": false,
    "ExecuteTime": {
     "end_time": "2024-11-19T15:40:40.542900Z",
     "start_time": "2024-11-19T15:40:40.389144Z"
    }
   },
   "id": "7b06595e70b5c672",
   "execution_count": 8
  },
  {
   "cell_type": "code",
   "outputs": [],
   "source": [
    "df = df[~(df['Reference URLs'].str.split(';').str.len() == 1)]\n",
    "df"
   ],
   "metadata": {
    "collapsed": false
   },
   "id": "9ca2a79b13b2e154",
   "execution_count": null
  },
  {
   "cell_type": "code",
   "outputs": [],
   "source": [
    "df = df[df['Patch URL'].str.split(';').str.len() == 1]\n",
    "df"
   ],
   "metadata": {
    "collapsed": false
   },
   "id": "81dbfbdbeb15b985",
   "execution_count": null
  }
 ],
 "metadata": {
  "kernelspec": {
   "display_name": "Python 3",
   "language": "python",
   "name": "python3"
  },
  "language_info": {
   "codemirror_mode": {
    "name": "ipython",
    "version": 2
   },
   "file_extension": ".py",
   "mimetype": "text/x-python",
   "name": "python",
   "nbconvert_exporter": "python",
   "pygments_lexer": "ipython2",
   "version": "2.7.6"
  }
 },
 "nbformat": 4,
 "nbformat_minor": 5
}
