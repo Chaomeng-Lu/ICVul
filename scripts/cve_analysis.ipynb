{
 "cells": [
  {
   "cell_type": "code",
   "outputs": [],
   "source": [
    "import pandas as pd\n",
    "from urllib.parse import urlparse\n",
    "import tldextract"
   ],
   "metadata": {
    "collapsed": false,
    "ExecuteTime": {
     "end_time": "2024-11-14T12:58:54.959385Z",
     "start_time": "2024-11-14T12:58:54.942391Z"
    }
   },
   "id": "d30babc10fd86a87",
   "execution_count": 5
  },
  {
   "cell_type": "code",
   "execution_count": 6,
   "id": "initial_id",
   "metadata": {
    "collapsed": true,
    "ExecuteTime": {
     "end_time": "2024-11-14T12:58:57.328533Z",
     "start_time": "2024-11-14T12:58:55.493965Z"
    }
   },
   "outputs": [
    {
     "data": {
      "text/plain": "(269509, 25)"
     },
     "execution_count": 6,
     "metadata": {},
     "output_type": "execute_result"
    }
   ],
   "source": [
    "df = pd.read_csv('..//data/raw/restructured_all_cves.csv')\n",
    "df.shape"
   ]
  },
  {
   "cell_type": "code",
   "outputs": [
    {
     "data": {
      "text/plain": "          CVE ID Source Identifier           Published Date  \\\n0  CVE-1999-0095     cve@mitre.org  1988-10-01T04:00:00.000   \n1  CVE-1999-0082     cve@mitre.org  1988-11-11T05:00:00.000   \n2  CVE-1999-1471     cve@mitre.org  1989-01-01T05:00:00.000   \n3  CVE-1999-1122     cve@mitre.org  1989-07-26T04:00:00.000   \n4  CVE-1999-1467     cve@mitre.org  1989-10-26T04:00:00.000   \n\n        Last Modified Date Vulnerability Status  \\\n0  2019-06-11T20:29:00.263             Modified   \n1  2008-09-09T12:33:40.853             Analyzed   \n2  2008-09-05T20:19:36.257             Analyzed   \n3  2018-05-03T01:29:04.817             Modified   \n4  2017-12-19T02:29:08.393             Modified   \n\n                                         Description  CVSS Version  \\\n0  The debug command in Sendmail is enabled, allo...           2.0   \n1      CWD ~root command in ftpd allows root access.           2.0   \n2  Buffer overflow in passwd in BSD based operati...           2.0   \n3  Vulnerability in restore in SunOS 4.0.3 and ea...           2.0   \n4  Vulnerability in rcp on SunOS 4.0.x allows rem...           2.0   \n\n           CVSS Vector String Access Vector Access Complexity  ...  \\\n0  AV:N/AC:L/Au:N/C:C/I:C/A:C       NETWORK               LOW  ...   \n1  AV:N/AC:L/Au:N/C:C/I:C/A:C       NETWORK               LOW  ...   \n2  AV:L/AC:L/Au:N/C:C/I:C/A:C         LOCAL               LOW  ...   \n3  AV:L/AC:L/Au:N/C:P/I:P/A:P         LOCAL               LOW  ...   \n4  AV:N/AC:L/Au:N/C:C/I:C/A:C       NETWORK               LOW  ...   \n\n  Base Severity Exploitability Score Impact Score acInsufInfo  \\\n0          HIGH                 10.0         10.0       False   \n1          HIGH                 10.0         10.0       False   \n2          HIGH                  3.9         10.0       False   \n3        MEDIUM                  3.9          6.4       False   \n4          HIGH                 10.0         10.0       False   \n\n   Obtain All Privilege Obtain User Privilege  Obtain Other Privilege  \\\n0                  True                 False                   False   \n1                  True                 False                   False   \n2                  True                 False                   False   \n3                 False                 False                   False   \n4                  True                 False                   False   \n\n   User Interaction Required         CWE ID  \\\n0                      False  NVD-CWE-Other   \n1                      False  NVD-CWE-Other   \n2                      False  NVD-CWE-Other   \n3                      False  NVD-CWE-Other   \n4                      False  NVD-CWE-Other   \n\n                                      Reference URLs  \n0  http://seclists.org/fulldisclosure/2019/Jun/16...  \n1  http://www.alw.nih.gov/Security/Docs/admin-gui...  \n2  http://www.cert.org/advisories/CA-1989-01.html...  \n3  http://www.cert.org/advisories/CA-1989-02.html...  \n4  http://www.cert.org/advisories/CA-1989-07.html...  \n\n[5 rows x 25 columns]",
      "text/html": "<div>\n<style scoped>\n    .dataframe tbody tr th:only-of-type {\n        vertical-align: middle;\n    }\n\n    .dataframe tbody tr th {\n        vertical-align: top;\n    }\n\n    .dataframe thead th {\n        text-align: right;\n    }\n</style>\n<table border=\"1\" class=\"dataframe\">\n  <thead>\n    <tr style=\"text-align: right;\">\n      <th></th>\n      <th>CVE ID</th>\n      <th>Source Identifier</th>\n      <th>Published Date</th>\n      <th>Last Modified Date</th>\n      <th>Vulnerability Status</th>\n      <th>Description</th>\n      <th>CVSS Version</th>\n      <th>CVSS Vector String</th>\n      <th>Access Vector</th>\n      <th>Access Complexity</th>\n      <th>...</th>\n      <th>Base Severity</th>\n      <th>Exploitability Score</th>\n      <th>Impact Score</th>\n      <th>acInsufInfo</th>\n      <th>Obtain All Privilege</th>\n      <th>Obtain User Privilege</th>\n      <th>Obtain Other Privilege</th>\n      <th>User Interaction Required</th>\n      <th>CWE ID</th>\n      <th>Reference URLs</th>\n    </tr>\n  </thead>\n  <tbody>\n    <tr>\n      <th>0</th>\n      <td>CVE-1999-0095</td>\n      <td>cve@mitre.org</td>\n      <td>1988-10-01T04:00:00.000</td>\n      <td>2019-06-11T20:29:00.263</td>\n      <td>Modified</td>\n      <td>The debug command in Sendmail is enabled, allo...</td>\n      <td>2.0</td>\n      <td>AV:N/AC:L/Au:N/C:C/I:C/A:C</td>\n      <td>NETWORK</td>\n      <td>LOW</td>\n      <td>...</td>\n      <td>HIGH</td>\n      <td>10.0</td>\n      <td>10.0</td>\n      <td>False</td>\n      <td>True</td>\n      <td>False</td>\n      <td>False</td>\n      <td>False</td>\n      <td>NVD-CWE-Other</td>\n      <td>http://seclists.org/fulldisclosure/2019/Jun/16...</td>\n    </tr>\n    <tr>\n      <th>1</th>\n      <td>CVE-1999-0082</td>\n      <td>cve@mitre.org</td>\n      <td>1988-11-11T05:00:00.000</td>\n      <td>2008-09-09T12:33:40.853</td>\n      <td>Analyzed</td>\n      <td>CWD ~root command in ftpd allows root access.</td>\n      <td>2.0</td>\n      <td>AV:N/AC:L/Au:N/C:C/I:C/A:C</td>\n      <td>NETWORK</td>\n      <td>LOW</td>\n      <td>...</td>\n      <td>HIGH</td>\n      <td>10.0</td>\n      <td>10.0</td>\n      <td>False</td>\n      <td>True</td>\n      <td>False</td>\n      <td>False</td>\n      <td>False</td>\n      <td>NVD-CWE-Other</td>\n      <td>http://www.alw.nih.gov/Security/Docs/admin-gui...</td>\n    </tr>\n    <tr>\n      <th>2</th>\n      <td>CVE-1999-1471</td>\n      <td>cve@mitre.org</td>\n      <td>1989-01-01T05:00:00.000</td>\n      <td>2008-09-05T20:19:36.257</td>\n      <td>Analyzed</td>\n      <td>Buffer overflow in passwd in BSD based operati...</td>\n      <td>2.0</td>\n      <td>AV:L/AC:L/Au:N/C:C/I:C/A:C</td>\n      <td>LOCAL</td>\n      <td>LOW</td>\n      <td>...</td>\n      <td>HIGH</td>\n      <td>3.9</td>\n      <td>10.0</td>\n      <td>False</td>\n      <td>True</td>\n      <td>False</td>\n      <td>False</td>\n      <td>False</td>\n      <td>NVD-CWE-Other</td>\n      <td>http://www.cert.org/advisories/CA-1989-01.html...</td>\n    </tr>\n    <tr>\n      <th>3</th>\n      <td>CVE-1999-1122</td>\n      <td>cve@mitre.org</td>\n      <td>1989-07-26T04:00:00.000</td>\n      <td>2018-05-03T01:29:04.817</td>\n      <td>Modified</td>\n      <td>Vulnerability in restore in SunOS 4.0.3 and ea...</td>\n      <td>2.0</td>\n      <td>AV:L/AC:L/Au:N/C:P/I:P/A:P</td>\n      <td>LOCAL</td>\n      <td>LOW</td>\n      <td>...</td>\n      <td>MEDIUM</td>\n      <td>3.9</td>\n      <td>6.4</td>\n      <td>False</td>\n      <td>False</td>\n      <td>False</td>\n      <td>False</td>\n      <td>False</td>\n      <td>NVD-CWE-Other</td>\n      <td>http://www.cert.org/advisories/CA-1989-02.html...</td>\n    </tr>\n    <tr>\n      <th>4</th>\n      <td>CVE-1999-1467</td>\n      <td>cve@mitre.org</td>\n      <td>1989-10-26T04:00:00.000</td>\n      <td>2017-12-19T02:29:08.393</td>\n      <td>Modified</td>\n      <td>Vulnerability in rcp on SunOS 4.0.x allows rem...</td>\n      <td>2.0</td>\n      <td>AV:N/AC:L/Au:N/C:C/I:C/A:C</td>\n      <td>NETWORK</td>\n      <td>LOW</td>\n      <td>...</td>\n      <td>HIGH</td>\n      <td>10.0</td>\n      <td>10.0</td>\n      <td>False</td>\n      <td>True</td>\n      <td>False</td>\n      <td>False</td>\n      <td>False</td>\n      <td>NVD-CWE-Other</td>\n      <td>http://www.cert.org/advisories/CA-1989-07.html...</td>\n    </tr>\n  </tbody>\n</table>\n<p>5 rows × 25 columns</p>\n</div>"
     },
     "execution_count": 7,
     "metadata": {},
     "output_type": "execute_result"
    }
   ],
   "source": [
    "df.head()"
   ],
   "metadata": {
    "collapsed": false,
    "ExecuteTime": {
     "end_time": "2024-11-14T12:58:57.940911Z",
     "start_time": "2024-11-14T12:58:57.922610Z"
    }
   },
   "id": "93ab85b978c3d0f3",
   "execution_count": 7
  },
  {
   "cell_type": "code",
   "outputs": [
    {
     "data": {
      "text/plain": "Vulnerability Status\nAnalyzed               137089\nModified                97813\nAwaiting Analysis       19454\nRejected                14466\nReceived                  347\nUndergoing Analysis       340\nName: count, dtype: int64"
     },
     "execution_count": 8,
     "metadata": {},
     "output_type": "execute_result"
    }
   ],
   "source": [
    "cwe_df = df['Vulnerability Status'].value_counts()\n",
    "cwe_df"
   ],
   "metadata": {
    "collapsed": false,
    "ExecuteTime": {
     "end_time": "2024-11-14T12:58:58.786361Z",
     "start_time": "2024-11-14T12:58:58.770117Z"
    }
   },
   "id": "8910de72031bc5d1",
   "execution_count": 8
  },
  {
   "cell_type": "code",
   "outputs": [
    {
     "data": {
      "text/plain": "CWE ID\nCWE-79            30016\nNVD-CWE-Other     28999\nNVD-CWE-noinfo    28977\nCWE-89            12849\nCWE-119           11567\n                  ...  \nCWE-646               1\nCWE-64                1\nCWE-465               1\nCWE-527               1\nCWE-615               1\nName: count, Length: 554, dtype: int64"
     },
     "execution_count": 9,
     "metadata": {},
     "output_type": "execute_result"
    }
   ],
   "source": [
    "cwe_df = df['CWE ID'].value_counts()\n",
    "cwe_df"
   ],
   "metadata": {
    "collapsed": false,
    "ExecuteTime": {
     "end_time": "2024-11-14T12:59:00.767338Z",
     "start_time": "2024-11-14T12:59:00.748338Z"
    }
   },
   "id": "b7000c70a7219119",
   "execution_count": 9
  },
  {
   "cell_type": "code",
   "outputs": [
    {
     "name": "stdout",
     "output_type": "stream",
     "text": [
      "All urls in total: 924834\n"
     ]
    },
    {
     "data": {
      "text/plain": "                  Domain  Count\n0      securityfocus.com  83636\n1             github.com  66059\n2            secunia.com  59764\n3             redhat.com  38702\n4           ibmcloud.com  37768\n...                  ...    ...\n11365          barmat.io      1\n11366        greysec.net      1\n11367            ucr.edu      1\n11368       acrolinx.com      1\n11369  luna-universe.com      1\n\n[11370 rows x 2 columns]",
      "text/html": "<div>\n<style scoped>\n    .dataframe tbody tr th:only-of-type {\n        vertical-align: middle;\n    }\n\n    .dataframe tbody tr th {\n        vertical-align: top;\n    }\n\n    .dataframe thead th {\n        text-align: right;\n    }\n</style>\n<table border=\"1\" class=\"dataframe\">\n  <thead>\n    <tr style=\"text-align: right;\">\n      <th></th>\n      <th>Domain</th>\n      <th>Count</th>\n    </tr>\n  </thead>\n  <tbody>\n    <tr>\n      <th>0</th>\n      <td>securityfocus.com</td>\n      <td>83636</td>\n    </tr>\n    <tr>\n      <th>1</th>\n      <td>github.com</td>\n      <td>66059</td>\n    </tr>\n    <tr>\n      <th>2</th>\n      <td>secunia.com</td>\n      <td>59764</td>\n    </tr>\n    <tr>\n      <th>3</th>\n      <td>redhat.com</td>\n      <td>38702</td>\n    </tr>\n    <tr>\n      <th>4</th>\n      <td>ibmcloud.com</td>\n      <td>37768</td>\n    </tr>\n    <tr>\n      <th>...</th>\n      <td>...</td>\n      <td>...</td>\n    </tr>\n    <tr>\n      <th>11365</th>\n      <td>barmat.io</td>\n      <td>1</td>\n    </tr>\n    <tr>\n      <th>11366</th>\n      <td>greysec.net</td>\n      <td>1</td>\n    </tr>\n    <tr>\n      <th>11367</th>\n      <td>ucr.edu</td>\n      <td>1</td>\n    </tr>\n    <tr>\n      <th>11368</th>\n      <td>acrolinx.com</td>\n      <td>1</td>\n    </tr>\n    <tr>\n      <th>11369</th>\n      <td>luna-universe.com</td>\n      <td>1</td>\n    </tr>\n  </tbody>\n</table>\n<p>11370 rows × 2 columns</p>\n</div>"
     },
     "execution_count": 10,
     "metadata": {},
     "output_type": "execute_result"
    }
   ],
   "source": [
    "def extract_domain(url):\n",
    "    \"\"\"\n",
    "    Extract domain from a URL.\n",
    "    :param url: The URL to extract the domain from\n",
    "    :return: The domain (e.g., 'github', 'google')\n",
    "    \"\"\"\n",
    "    extracted = tldextract.extract(url)\n",
    "    return f\"{extracted.domain}.{extracted.suffix}\"\n",
    "\n",
    "def process_urls(urls):\n",
    "    \"\"\"\n",
    "    Process a semicolon-separated string of URLs and extract domains.\n",
    "    :param urls: Semicolon-separated string of URLs\n",
    "    :return: List of domains\n",
    "    \"\"\"\n",
    "    if pd.isna(urls) or urls.strip() == '':\n",
    "        return []\n",
    "    # Split the URLs by semicolon and extract domains\n",
    "    urls_list = urls.split(';')\n",
    "    domains = [extract_domain(url.strip()) for url in urls_list if url.strip()]\n",
    "    return domains\n",
    "\n",
    "def categorize_and_count(df_column):\n",
    "    \"\"\"\n",
    "    Categorize URLs by their domains and count the occurrences.\n",
    "    :param df_column: DataFrame column containing URLs\n",
    "    :return: Series with domain counts\n",
    "    \"\"\"\n",
    "    # Apply the processing function to the DataFrame column\n",
    "    all_domains = [domain for urls in df_column for domain in process_urls(urls)]\n",
    "    \n",
    "    # Count occurrences of each domain\n",
    "    return pd.Series(all_domains).value_counts()\n",
    "\n",
    "# Apply the function and get the counts\n",
    "domain_counts = categorize_and_count(df['Reference URLs'])\n",
    "\n",
    "print(\"All urls in total:\", domain_counts.sum())\n",
    "\n",
    "domain_counts_df = domain_counts.reset_index()\n",
    "domain_counts_df.columns = ['Domain', 'Count']\n",
    "domain_counts_df"
   ],
   "metadata": {
    "collapsed": false,
    "ExecuteTime": {
     "end_time": "2024-11-14T12:59:07.246317Z",
     "start_time": "2024-11-14T12:59:03.150911Z"
    }
   },
   "id": "2b968ffd978c2c80",
   "execution_count": 10
  },
  {
   "cell_type": "markdown",
   "source": [
    "### Count rows containing every domain"
   ],
   "metadata": {
    "collapsed": false
   },
   "id": "f41e854ce9ca5091"
  },
  {
   "cell_type": "code",
   "outputs": [
    {
     "data": {
      "text/plain": "                    Domain  Count\n0        securityfocus.com  68415\n1               github.com  46055\n2             ibmcloud.com  36533\n3              secunia.com  31482\n4      securitytracker.com  28161\n...                    ...    ...\n11304      liftsecurity.io      1\n11305  perspectiverisk.com      1\n11306       cybelesoft.com      1\n11307         mantz-it.com      1\n11308    luna-universe.com      1\n\n[11309 rows x 2 columns]",
      "text/html": "<div>\n<style scoped>\n    .dataframe tbody tr th:only-of-type {\n        vertical-align: middle;\n    }\n\n    .dataframe tbody tr th {\n        vertical-align: top;\n    }\n\n    .dataframe thead th {\n        text-align: right;\n    }\n</style>\n<table border=\"1\" class=\"dataframe\">\n  <thead>\n    <tr style=\"text-align: right;\">\n      <th></th>\n      <th>Domain</th>\n      <th>Count</th>\n    </tr>\n  </thead>\n  <tbody>\n    <tr>\n      <th>0</th>\n      <td>securityfocus.com</td>\n      <td>68415</td>\n    </tr>\n    <tr>\n      <th>1</th>\n      <td>github.com</td>\n      <td>46055</td>\n    </tr>\n    <tr>\n      <th>2</th>\n      <td>ibmcloud.com</td>\n      <td>36533</td>\n    </tr>\n    <tr>\n      <th>3</th>\n      <td>secunia.com</td>\n      <td>31482</td>\n    </tr>\n    <tr>\n      <th>4</th>\n      <td>securitytracker.com</td>\n      <td>28161</td>\n    </tr>\n    <tr>\n      <th>...</th>\n      <td>...</td>\n      <td>...</td>\n    </tr>\n    <tr>\n      <th>11304</th>\n      <td>liftsecurity.io</td>\n      <td>1</td>\n    </tr>\n    <tr>\n      <th>11305</th>\n      <td>perspectiverisk.com</td>\n      <td>1</td>\n    </tr>\n    <tr>\n      <th>11306</th>\n      <td>cybelesoft.com</td>\n      <td>1</td>\n    </tr>\n    <tr>\n      <th>11307</th>\n      <td>mantz-it.com</td>\n      <td>1</td>\n    </tr>\n    <tr>\n      <th>11308</th>\n      <td>luna-universe.com</td>\n      <td>1</td>\n    </tr>\n  </tbody>\n</table>\n<p>11309 rows × 2 columns</p>\n</div>"
     },
     "execution_count": 11,
     "metadata": {},
     "output_type": "execute_result"
    }
   ],
   "source": [
    "def remove_duplicate_domains(url_string):\n",
    "    if pd.isna(url_string):  # Check if the value is NaN or None\n",
    "        return ''  # Return an empty string or handle as needed\n",
    "    urls = url_string.split(';')  # Split the URL string into a list\n",
    "    seen_domains = set()\n",
    "    unique_urls = []\n",
    "\n",
    "    for url in urls:\n",
    "        domain = urlparse(url).netloc\n",
    "        if domain not in seen_domains:\n",
    "            seen_domains.add(domain)\n",
    "            unique_urls.append(url)\n",
    "\n",
    "    return ';'.join(unique_urls)  # Join the unique URLs back into a string, separated by semicolons\n",
    "\n",
    "# Avoid change origin data \n",
    "temp_df = df\n",
    "# Apply the function to each row in the DataFrame\n",
    "temp_df['Reference URLs'] = temp_df['Reference URLs'].apply(remove_duplicate_domains)\n",
    "\n",
    "domain_row_counts = categorize_and_count(temp_df['Reference URLs'])\n",
    "\n",
    "domain_counts_df = domain_row_counts.reset_index()\n",
    "\n",
    "domain_counts_df.columns = ['Domain', 'Count']\n",
    "domain_counts_df"
   ],
   "metadata": {
    "collapsed": false,
    "ExecuteTime": {
     "end_time": "2024-11-14T12:59:28.130217Z",
     "start_time": "2024-11-14T12:59:21.928815Z"
    }
   },
   "id": "91ce328d9e2b8e54",
   "execution_count": 11
  },
  {
   "cell_type": "code",
   "outputs": [],
   "source": [
    "domain_counts_df.to_csv('..//data/raw/all_domain_list.csv')"
   ],
   "metadata": {
    "collapsed": false,
    "ExecuteTime": {
     "end_time": "2024-11-14T13:00:14.908679Z",
     "start_time": "2024-11-14T13:00:14.873140Z"
    }
   },
   "id": "f326a5772b97eaab",
   "execution_count": 12
  }
 ],
 "metadata": {
  "kernelspec": {
   "display_name": "Python 3",
   "language": "python",
   "name": "python3"
  },
  "language_info": {
   "codemirror_mode": {
    "name": "ipython",
    "version": 2
   },
   "file_extension": ".py",
   "mimetype": "text/x-python",
   "name": "python",
   "nbconvert_exporter": "python",
   "pygments_lexer": "ipython2",
   "version": "2.7.6"
  }
 },
 "nbformat": 4,
 "nbformat_minor": 5
}
